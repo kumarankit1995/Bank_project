{
 "cells": [
  {
   "cell_type": "code",
   "execution_count": 1,
   "metadata": {},
   "outputs": [],
   "source": [
    "import pandas as pd\n",
    "import matplotlib.pyplot as plt\n",
    "%matplotlib inline\n",
    "import seaborn as sns\n",
    "from sklearn.preprocessing import StandardScaler\n",
    "from sklearn.model_selection import train_test_split\n",
    "from imblearn.over_sampling import SMOTE\n",
    "from sklearn.linear_model import LogisticRegression\n",
    "from sklearn.ensemble import RandomForestClassifier\n",
    "from sklearn.ensemble import AdaBoostClassifier\n",
    "from sklearn.ensemble import GradientBoostingClassifier\n",
    "import xgboost as xgb\n",
    "from lightgbm import LGBMClassifier\n",
    "from sklearn.metrics import accuracy_score,classification_report,confusion_matrix\n",
    "from sklearn.model_selection import cross_val_score\n",
    "from sklearn.model_selection import ShuffleSplit\n",
    "from sklearn.model_selection import GridSearchCV\n",
    "\n",
    "\n",
    "url  = 'D:\\\\Ankit\\\\Python\\\\input\\\\bank.csv'"
   ]
  },
  {
   "cell_type": "code",
   "execution_count": 2,
   "metadata": {},
   "outputs": [],
   "source": [
    "bank = pd.read_csv(url)"
   ]
  },
  {
   "cell_type": "code",
   "execution_count": 3,
   "metadata": {},
   "outputs": [
    {
     "data": {
      "text/plain": [
       "(41188, 21)"
      ]
     },
     "execution_count": 3,
     "metadata": {},
     "output_type": "execute_result"
    }
   ],
   "source": [
    "bank.shape"
   ]
  },
  {
   "cell_type": "code",
   "execution_count": 4,
   "metadata": {},
   "outputs": [
    {
     "name": "stdout",
     "output_type": "stream",
     "text": [
      "<class 'pandas.core.frame.DataFrame'>\n",
      "RangeIndex: 41188 entries, 0 to 41187\n",
      "Data columns (total 21 columns):\n",
      " #   Column          Non-Null Count  Dtype  \n",
      "---  ------          --------------  -----  \n",
      " 0   age             41188 non-null  int64  \n",
      " 1   job             41188 non-null  object \n",
      " 2   marital         41188 non-null  object \n",
      " 3   education       41188 non-null  object \n",
      " 4   default         41188 non-null  object \n",
      " 5   housing         41188 non-null  object \n",
      " 6   loan            41188 non-null  object \n",
      " 7   contact         41188 non-null  object \n",
      " 8   month           41188 non-null  object \n",
      " 9   day_of_week     41188 non-null  object \n",
      " 10  duration        41188 non-null  int64  \n",
      " 11  campaign        41188 non-null  int64  \n",
      " 12  pdays           41188 non-null  int64  \n",
      " 13  previous        41188 non-null  int64  \n",
      " 14  poutcome        41188 non-null  object \n",
      " 15  emp.var.rate    41188 non-null  float64\n",
      " 16  cons.price.idx  41188 non-null  float64\n",
      " 17  cons.conf.idx   41188 non-null  float64\n",
      " 18  euribor3m       41188 non-null  float64\n",
      " 19  nr.employed     41188 non-null  float64\n",
      " 20  y               41188 non-null  object \n",
      "dtypes: float64(5), int64(5), object(11)\n",
      "memory usage: 6.6+ MB\n"
     ]
    }
   ],
   "source": [
    "bank.info()"
   ]
  },
  {
   "cell_type": "code",
   "execution_count": 5,
   "metadata": {},
   "outputs": [
    {
     "data": {
      "text/html": [
       "<div>\n",
       "<style scoped>\n",
       "    .dataframe tbody tr th:only-of-type {\n",
       "        vertical-align: middle;\n",
       "    }\n",
       "\n",
       "    .dataframe tbody tr th {\n",
       "        vertical-align: top;\n",
       "    }\n",
       "\n",
       "    .dataframe thead th {\n",
       "        text-align: right;\n",
       "    }\n",
       "</style>\n",
       "<table border=\"1\" class=\"dataframe\">\n",
       "  <thead>\n",
       "    <tr style=\"text-align: right;\">\n",
       "      <th></th>\n",
       "      <th>age</th>\n",
       "      <th>duration</th>\n",
       "      <th>campaign</th>\n",
       "      <th>pdays</th>\n",
       "      <th>previous</th>\n",
       "      <th>emp.var.rate</th>\n",
       "      <th>cons.price.idx</th>\n",
       "      <th>cons.conf.idx</th>\n",
       "      <th>euribor3m</th>\n",
       "      <th>nr.employed</th>\n",
       "    </tr>\n",
       "  </thead>\n",
       "  <tbody>\n",
       "    <tr>\n",
       "      <th>count</th>\n",
       "      <td>41188.00000</td>\n",
       "      <td>41188.000000</td>\n",
       "      <td>41188.000000</td>\n",
       "      <td>41188.000000</td>\n",
       "      <td>41188.000000</td>\n",
       "      <td>41188.000000</td>\n",
       "      <td>41188.000000</td>\n",
       "      <td>41188.000000</td>\n",
       "      <td>41188.000000</td>\n",
       "      <td>41188.000000</td>\n",
       "    </tr>\n",
       "    <tr>\n",
       "      <th>mean</th>\n",
       "      <td>40.02406</td>\n",
       "      <td>258.285010</td>\n",
       "      <td>2.567593</td>\n",
       "      <td>962.475454</td>\n",
       "      <td>0.172963</td>\n",
       "      <td>0.081886</td>\n",
       "      <td>93.575664</td>\n",
       "      <td>-40.502600</td>\n",
       "      <td>3.621291</td>\n",
       "      <td>5167.035911</td>\n",
       "    </tr>\n",
       "    <tr>\n",
       "      <th>std</th>\n",
       "      <td>10.42125</td>\n",
       "      <td>259.279249</td>\n",
       "      <td>2.770014</td>\n",
       "      <td>186.910907</td>\n",
       "      <td>0.494901</td>\n",
       "      <td>1.570960</td>\n",
       "      <td>0.578840</td>\n",
       "      <td>4.628198</td>\n",
       "      <td>1.734447</td>\n",
       "      <td>72.251528</td>\n",
       "    </tr>\n",
       "    <tr>\n",
       "      <th>min</th>\n",
       "      <td>17.00000</td>\n",
       "      <td>0.000000</td>\n",
       "      <td>1.000000</td>\n",
       "      <td>0.000000</td>\n",
       "      <td>0.000000</td>\n",
       "      <td>-3.400000</td>\n",
       "      <td>92.201000</td>\n",
       "      <td>-50.800000</td>\n",
       "      <td>0.634000</td>\n",
       "      <td>4963.600000</td>\n",
       "    </tr>\n",
       "    <tr>\n",
       "      <th>25%</th>\n",
       "      <td>32.00000</td>\n",
       "      <td>102.000000</td>\n",
       "      <td>1.000000</td>\n",
       "      <td>999.000000</td>\n",
       "      <td>0.000000</td>\n",
       "      <td>-1.800000</td>\n",
       "      <td>93.075000</td>\n",
       "      <td>-42.700000</td>\n",
       "      <td>1.344000</td>\n",
       "      <td>5099.100000</td>\n",
       "    </tr>\n",
       "    <tr>\n",
       "      <th>50%</th>\n",
       "      <td>38.00000</td>\n",
       "      <td>180.000000</td>\n",
       "      <td>2.000000</td>\n",
       "      <td>999.000000</td>\n",
       "      <td>0.000000</td>\n",
       "      <td>1.100000</td>\n",
       "      <td>93.749000</td>\n",
       "      <td>-41.800000</td>\n",
       "      <td>4.857000</td>\n",
       "      <td>5191.000000</td>\n",
       "    </tr>\n",
       "    <tr>\n",
       "      <th>75%</th>\n",
       "      <td>47.00000</td>\n",
       "      <td>319.000000</td>\n",
       "      <td>3.000000</td>\n",
       "      <td>999.000000</td>\n",
       "      <td>0.000000</td>\n",
       "      <td>1.400000</td>\n",
       "      <td>93.994000</td>\n",
       "      <td>-36.400000</td>\n",
       "      <td>4.961000</td>\n",
       "      <td>5228.100000</td>\n",
       "    </tr>\n",
       "    <tr>\n",
       "      <th>max</th>\n",
       "      <td>98.00000</td>\n",
       "      <td>4918.000000</td>\n",
       "      <td>56.000000</td>\n",
       "      <td>999.000000</td>\n",
       "      <td>7.000000</td>\n",
       "      <td>1.400000</td>\n",
       "      <td>94.767000</td>\n",
       "      <td>-26.900000</td>\n",
       "      <td>5.045000</td>\n",
       "      <td>5228.100000</td>\n",
       "    </tr>\n",
       "  </tbody>\n",
       "</table>\n",
       "</div>"
      ],
      "text/plain": [
       "               age      duration      campaign         pdays      previous  \\\n",
       "count  41188.00000  41188.000000  41188.000000  41188.000000  41188.000000   \n",
       "mean      40.02406    258.285010      2.567593    962.475454      0.172963   \n",
       "std       10.42125    259.279249      2.770014    186.910907      0.494901   \n",
       "min       17.00000      0.000000      1.000000      0.000000      0.000000   \n",
       "25%       32.00000    102.000000      1.000000    999.000000      0.000000   \n",
       "50%       38.00000    180.000000      2.000000    999.000000      0.000000   \n",
       "75%       47.00000    319.000000      3.000000    999.000000      0.000000   \n",
       "max       98.00000   4918.000000     56.000000    999.000000      7.000000   \n",
       "\n",
       "       emp.var.rate  cons.price.idx  cons.conf.idx     euribor3m   nr.employed  \n",
       "count  41188.000000    41188.000000   41188.000000  41188.000000  41188.000000  \n",
       "mean       0.081886       93.575664     -40.502600      3.621291   5167.035911  \n",
       "std        1.570960        0.578840       4.628198      1.734447     72.251528  \n",
       "min       -3.400000       92.201000     -50.800000      0.634000   4963.600000  \n",
       "25%       -1.800000       93.075000     -42.700000      1.344000   5099.100000  \n",
       "50%        1.100000       93.749000     -41.800000      4.857000   5191.000000  \n",
       "75%        1.400000       93.994000     -36.400000      4.961000   5228.100000  \n",
       "max        1.400000       94.767000     -26.900000      5.045000   5228.100000  "
      ]
     },
     "execution_count": 5,
     "metadata": {},
     "output_type": "execute_result"
    }
   ],
   "source": [
    "bank.describe()"
   ]
  },
  {
   "cell_type": "code",
   "execution_count": 6,
   "metadata": {},
   "outputs": [
    {
     "data": {
      "text/html": [
       "<div>\n",
       "<style scoped>\n",
       "    .dataframe tbody tr th:only-of-type {\n",
       "        vertical-align: middle;\n",
       "    }\n",
       "\n",
       "    .dataframe tbody tr th {\n",
       "        vertical-align: top;\n",
       "    }\n",
       "\n",
       "    .dataframe thead th {\n",
       "        text-align: right;\n",
       "    }\n",
       "</style>\n",
       "<table border=\"1\" class=\"dataframe\">\n",
       "  <thead>\n",
       "    <tr style=\"text-align: right;\">\n",
       "      <th></th>\n",
       "      <th>age</th>\n",
       "      <th>duration</th>\n",
       "      <th>campaign</th>\n",
       "      <th>pdays</th>\n",
       "      <th>previous</th>\n",
       "      <th>emp.var.rate</th>\n",
       "      <th>cons.price.idx</th>\n",
       "      <th>cons.conf.idx</th>\n",
       "      <th>euribor3m</th>\n",
       "      <th>nr.employed</th>\n",
       "    </tr>\n",
       "  </thead>\n",
       "  <tbody>\n",
       "    <tr>\n",
       "      <th>age</th>\n",
       "      <td>1.000000</td>\n",
       "      <td>-0.000866</td>\n",
       "      <td>0.004594</td>\n",
       "      <td>-0.034369</td>\n",
       "      <td>0.024365</td>\n",
       "      <td>-0.000371</td>\n",
       "      <td>0.000857</td>\n",
       "      <td>0.129372</td>\n",
       "      <td>0.010767</td>\n",
       "      <td>-0.017725</td>\n",
       "    </tr>\n",
       "    <tr>\n",
       "      <th>duration</th>\n",
       "      <td>-0.000866</td>\n",
       "      <td>1.000000</td>\n",
       "      <td>-0.071699</td>\n",
       "      <td>-0.047577</td>\n",
       "      <td>0.020640</td>\n",
       "      <td>-0.027968</td>\n",
       "      <td>0.005312</td>\n",
       "      <td>-0.008173</td>\n",
       "      <td>-0.032897</td>\n",
       "      <td>-0.044703</td>\n",
       "    </tr>\n",
       "    <tr>\n",
       "      <th>campaign</th>\n",
       "      <td>0.004594</td>\n",
       "      <td>-0.071699</td>\n",
       "      <td>1.000000</td>\n",
       "      <td>0.052584</td>\n",
       "      <td>-0.079141</td>\n",
       "      <td>0.150754</td>\n",
       "      <td>0.127836</td>\n",
       "      <td>-0.013733</td>\n",
       "      <td>0.135133</td>\n",
       "      <td>0.144095</td>\n",
       "    </tr>\n",
       "    <tr>\n",
       "      <th>pdays</th>\n",
       "      <td>-0.034369</td>\n",
       "      <td>-0.047577</td>\n",
       "      <td>0.052584</td>\n",
       "      <td>1.000000</td>\n",
       "      <td>-0.587514</td>\n",
       "      <td>0.271004</td>\n",
       "      <td>0.078889</td>\n",
       "      <td>-0.091342</td>\n",
       "      <td>0.296899</td>\n",
       "      <td>0.372605</td>\n",
       "    </tr>\n",
       "    <tr>\n",
       "      <th>previous</th>\n",
       "      <td>0.024365</td>\n",
       "      <td>0.020640</td>\n",
       "      <td>-0.079141</td>\n",
       "      <td>-0.587514</td>\n",
       "      <td>1.000000</td>\n",
       "      <td>-0.420489</td>\n",
       "      <td>-0.203130</td>\n",
       "      <td>-0.050936</td>\n",
       "      <td>-0.454494</td>\n",
       "      <td>-0.501333</td>\n",
       "    </tr>\n",
       "    <tr>\n",
       "      <th>emp.var.rate</th>\n",
       "      <td>-0.000371</td>\n",
       "      <td>-0.027968</td>\n",
       "      <td>0.150754</td>\n",
       "      <td>0.271004</td>\n",
       "      <td>-0.420489</td>\n",
       "      <td>1.000000</td>\n",
       "      <td>0.775334</td>\n",
       "      <td>0.196041</td>\n",
       "      <td>0.972245</td>\n",
       "      <td>0.906970</td>\n",
       "    </tr>\n",
       "    <tr>\n",
       "      <th>cons.price.idx</th>\n",
       "      <td>0.000857</td>\n",
       "      <td>0.005312</td>\n",
       "      <td>0.127836</td>\n",
       "      <td>0.078889</td>\n",
       "      <td>-0.203130</td>\n",
       "      <td>0.775334</td>\n",
       "      <td>1.000000</td>\n",
       "      <td>0.058986</td>\n",
       "      <td>0.688230</td>\n",
       "      <td>0.522034</td>\n",
       "    </tr>\n",
       "    <tr>\n",
       "      <th>cons.conf.idx</th>\n",
       "      <td>0.129372</td>\n",
       "      <td>-0.008173</td>\n",
       "      <td>-0.013733</td>\n",
       "      <td>-0.091342</td>\n",
       "      <td>-0.050936</td>\n",
       "      <td>0.196041</td>\n",
       "      <td>0.058986</td>\n",
       "      <td>1.000000</td>\n",
       "      <td>0.277686</td>\n",
       "      <td>0.100513</td>\n",
       "    </tr>\n",
       "    <tr>\n",
       "      <th>euribor3m</th>\n",
       "      <td>0.010767</td>\n",
       "      <td>-0.032897</td>\n",
       "      <td>0.135133</td>\n",
       "      <td>0.296899</td>\n",
       "      <td>-0.454494</td>\n",
       "      <td>0.972245</td>\n",
       "      <td>0.688230</td>\n",
       "      <td>0.277686</td>\n",
       "      <td>1.000000</td>\n",
       "      <td>0.945154</td>\n",
       "    </tr>\n",
       "    <tr>\n",
       "      <th>nr.employed</th>\n",
       "      <td>-0.017725</td>\n",
       "      <td>-0.044703</td>\n",
       "      <td>0.144095</td>\n",
       "      <td>0.372605</td>\n",
       "      <td>-0.501333</td>\n",
       "      <td>0.906970</td>\n",
       "      <td>0.522034</td>\n",
       "      <td>0.100513</td>\n",
       "      <td>0.945154</td>\n",
       "      <td>1.000000</td>\n",
       "    </tr>\n",
       "  </tbody>\n",
       "</table>\n",
       "</div>"
      ],
      "text/plain": [
       "                     age  duration  campaign     pdays  previous  \\\n",
       "age             1.000000 -0.000866  0.004594 -0.034369  0.024365   \n",
       "duration       -0.000866  1.000000 -0.071699 -0.047577  0.020640   \n",
       "campaign        0.004594 -0.071699  1.000000  0.052584 -0.079141   \n",
       "pdays          -0.034369 -0.047577  0.052584  1.000000 -0.587514   \n",
       "previous        0.024365  0.020640 -0.079141 -0.587514  1.000000   \n",
       "emp.var.rate   -0.000371 -0.027968  0.150754  0.271004 -0.420489   \n",
       "cons.price.idx  0.000857  0.005312  0.127836  0.078889 -0.203130   \n",
       "cons.conf.idx   0.129372 -0.008173 -0.013733 -0.091342 -0.050936   \n",
       "euribor3m       0.010767 -0.032897  0.135133  0.296899 -0.454494   \n",
       "nr.employed    -0.017725 -0.044703  0.144095  0.372605 -0.501333   \n",
       "\n",
       "                emp.var.rate  cons.price.idx  cons.conf.idx  euribor3m  \\\n",
       "age                -0.000371        0.000857       0.129372   0.010767   \n",
       "duration           -0.027968        0.005312      -0.008173  -0.032897   \n",
       "campaign            0.150754        0.127836      -0.013733   0.135133   \n",
       "pdays               0.271004        0.078889      -0.091342   0.296899   \n",
       "previous           -0.420489       -0.203130      -0.050936  -0.454494   \n",
       "emp.var.rate        1.000000        0.775334       0.196041   0.972245   \n",
       "cons.price.idx      0.775334        1.000000       0.058986   0.688230   \n",
       "cons.conf.idx       0.196041        0.058986       1.000000   0.277686   \n",
       "euribor3m           0.972245        0.688230       0.277686   1.000000   \n",
       "nr.employed         0.906970        0.522034       0.100513   0.945154   \n",
       "\n",
       "                nr.employed  \n",
       "age               -0.017725  \n",
       "duration          -0.044703  \n",
       "campaign           0.144095  \n",
       "pdays              0.372605  \n",
       "previous          -0.501333  \n",
       "emp.var.rate       0.906970  \n",
       "cons.price.idx     0.522034  \n",
       "cons.conf.idx      0.100513  \n",
       "euribor3m          0.945154  \n",
       "nr.employed        1.000000  "
      ]
     },
     "execution_count": 6,
     "metadata": {},
     "output_type": "execute_result"
    }
   ],
   "source": [
    "bank.corr()"
   ]
  },
  {
   "cell_type": "code",
   "execution_count": 7,
   "metadata": {},
   "outputs": [
    {
     "data": {
      "text/plain": [
       "<AxesSubplot:>"
      ]
     },
     "execution_count": 7,
     "metadata": {},
     "output_type": "execute_result"
    },
    {
     "data": {
      "image/png": "[encoded data removed]",
      "text/plain": [
       "<Figure size 720x432 with 2 Axes>"
      ]
     },
     "metadata": {
      "needs_background": "light"
     },
     "output_type": "display_data"
    }
   ],
   "source": [
    "plt.figure(figsize=(10,6))\n",
    "sns.heatmap(bank.corr(),cmap='Blues')"
   ]
  },
  {
   "cell_type": "code",
   "execution_count": 160,
   "metadata": {},
   "outputs": [
    {
     "name": "stdout",
     "output_type": "stream",
     "text": [
      "no     36548\n",
      "yes     4640\n",
      "Name: y, dtype: int64\n"
     ]
    }
   ],
   "source": [
    "bank['Count']=1\n",
    "pie = bank['y'].value_counts()\n",
    "print(pie)"
   ]
  },
  {
   "cell_type": "code",
   "execution_count": 138,
   "metadata": {},
   "outputs": [
    {
     "data": {
      "text/plain": [
       "([<matplotlib.patches.Wedge at 0x1c92f2c1fa0>,\n",
       "  <matplotlib.patches.Wedge at 0x1c92f2cf130>],\n",
       " [Text(-1.0318259710710267, 0.3812284950306482, 'no'),\n",
       "  Text(1.125628361280998, -0.4158855519008265, 'yes')],\n",
       " [Text(-0.5628141660387418, 0.20794281547126264, '88.7%'),\n",
       "  Text(0.6566165440805822, -0.2425999052754821, '11.3%')])"
      ]
     },
     "execution_count": 138,
     "metadata": {},
     "output_type": "execute_result"
    },
    {
     "data": {
      "image/png": "[encoded data removed]",
      "text/plain": [
       "<Figure size 936x432 with 1 Axes>"
      ]
     },
     "metadata": {},
     "output_type": "display_data"
    }
   ],
   "source": [
    "plt.figure(figsize=(13,6))\n",
    "plt.pie(pie,labels=['no','yes'],autopct='%1.1f%%',shadow=True,explode=(0,0.1))\n",
    "#sns.barplot(x=bank['y'],y=bank_age['Count'],hue=bank_age['y'])"
   ]
  },
  {
   "cell_type": "code",
   "execution_count": 9,
   "metadata": {},
   "outputs": [],
   "source": [
    "def age_group(x):\n",
    "    if x<20:\n",
    "        return '>20'\n",
    "    if (x>=20) & (x<30):\n",
    "        return '>30'\n",
    "    if (x>=30) & (x<40):\n",
    "        return '>40'\n",
    "    if (x>=40) & (x<50):\n",
    "        return '>50'\n",
    "    if (x>=50) & (x<60):\n",
    "        return '>60'\n",
    "    if (x>=60) & (x<70):\n",
    "        return '>70'\n",
    "    if (x>70) & (x<80):\n",
    "        return '>80'\n",
    "    if (x>=80) & (x<90):\n",
    "        return '>90'\n",
    "    if (x>=90) & (x<100):\n",
    "        return '>100'"
   ]
  },
  {
   "cell_type": "code",
   "execution_count": 145,
   "metadata": {},
   "outputs": [
    {
     "name": "stdout",
     "output_type": "stream",
     "text": [
      "   age_group    y  Count\n",
      "0       >100   no      5\n",
      "1       >100  yes      5\n",
      "2        >20   no     41\n",
      "3        >20  yes     34\n",
      "4        >30   no   4706\n",
      "5        >30  yes    888\n",
      "6        >40   no  15223\n",
      "7        >40  yes   1715\n",
      "8        >50   no   9692\n",
      "9        >50  yes    834\n",
      "10       >60   no   6165\n",
      "11       >60  yes    697\n",
      "12       >70   no    473\n",
      "13       >70  yes    251\n",
      "14       >80   no    147\n",
      "15       >80  yes    125\n",
      "16       >90   no     68\n",
      "17       >90  yes     72\n"
     ]
    },
    {
     "data": {
      "text/plain": [
       "<AxesSubplot:xlabel='age_group', ylabel='Count'>"
      ]
     },
     "execution_count": 145,
     "metadata": {},
     "output_type": "execute_result"
    },
    {
     "data": {
      "image/png": "[encoded data removed]",
      "text/plain": [
       "<Figure size 936x432 with 1 Axes>"
      ]
     },
     "metadata": {
      "needs_background": "light"
     },
     "output_type": "display_data"
    }
   ],
   "source": [
    "bank['age_group'] = bank['age'].apply(age_group)\n",
    "bank['age_group'] = bank['age_group'].astype('category')\n",
    "bank_age = bank.groupby(['age_group','y']).count()['Count'].reset_index()\n",
    "print(bank_age)\n",
    "plt.figure(figsize=(13,6))\n",
    "sns.barplot(x=bank_age['age_group'],y=bank_age['Count'],hue=bank_age['y'])"
   ]
  },
  {
   "cell_type": "code",
   "execution_count": 161,
   "metadata": {},
   "outputs": [
    {
     "name": "stdout",
     "output_type": "stream",
     "text": [
      "              job    y  Count\n",
      "0          admin.   no   9070\n",
      "1          admin.  yes   1352\n",
      "2     blue-collar   no   8616\n",
      "3     blue-collar  yes    638\n",
      "4    entrepreneur   no   1332\n",
      "5    entrepreneur  yes    124\n",
      "6       housemaid   no    954\n",
      "7       housemaid  yes    106\n",
      "8      management   no   2596\n",
      "9      management  yes    328\n",
      "10        retired   no   1286\n",
      "11        retired  yes    434\n",
      "12  self-employed   no   1272\n",
      "13  self-employed  yes    149\n",
      "14       services   no   3646\n",
      "15       services  yes    323\n",
      "16        student   no    600\n",
      "17        student  yes    275\n",
      "18     technician   no   6013\n",
      "19     technician  yes    730\n",
      "20     unemployed   no    870\n",
      "21     unemployed  yes    144\n",
      "22        unknown   no    293\n",
      "23        unknown  yes     37\n"
     ]
    },
    {
     "data": {
      "text/plain": [
       "<AxesSubplot:xlabel='job', ylabel='Count'>"
      ]
     },
     "execution_count": 161,
     "metadata": {},
     "output_type": "execute_result"
    },
    {
     "data": {
      "image/png": "[encoded data removed]",
      "text/plain": [
       "<Figure size 1224x360 with 1 Axes>"
      ]
     },
     "metadata": {
      "needs_background": "light"
     },
     "output_type": "display_data"
    }
   ],
   "source": [
    "bank_job=bank.groupby(['job','y']).count()['Count'].reset_index()\n",
    "print(bank_job)\n",
    "plt.figure(figsize = (17,5))\n",
    "sns.barplot(x=bank_job['job'],y=bank_job['Count'],hue=bank_job['y'])"
   ]
  },
  {
   "cell_type": "code",
   "execution_count": 12,
   "metadata": {},
   "outputs": [
    {
     "name": "stdout",
     "output_type": "stream",
     "text": [
      "    marital    y  Count\n",
      "0  divorced   no   4136\n",
      "1  divorced  yes    476\n",
      "2   married   no  22396\n",
      "3   married  yes   2532\n",
      "4    single   no   9948\n",
      "5    single  yes   1620\n",
      "6   unknown   no     68\n",
      "7   unknown  yes     12\n"
     ]
    },
    {
     "data": {
      "text/plain": [
       "<AxesSubplot:xlabel='marital', ylabel='Count'>"
      ]
     },
     "execution_count": 12,
     "metadata": {},
     "output_type": "execute_result"
    },
    {
     "data": {
      "image/png": "[encoded data removed]",
      "text/plain": [
       "<Figure size 720x432 with 1 Axes>"
      ]
     },
     "metadata": {
      "needs_background": "light"
     },
     "output_type": "display_data"
    }
   ],
   "source": [
    "bank_mari = bank.groupby(['marital','y']).count()['Count'].reset_index()\n",
    "print(bank_mari)\n",
    "plt.figure(figsize=(10,6))\n",
    "sns.barplot(x=bank_mari['marital'],y=bank_mari['Count'],hue=bank_mari['y'])"
   ]
  },
  {
   "cell_type": "code",
   "execution_count": 13,
   "metadata": {},
   "outputs": [
    {
     "name": "stdout",
     "output_type": "stream",
     "text": [
      "              education    y  Count\n",
      "0              basic.4y   no   3748\n",
      "1              basic.4y  yes    428\n",
      "2              basic.6y   no   2104\n",
      "3              basic.6y  yes    188\n",
      "4              basic.9y   no   5572\n",
      "5              basic.9y  yes    473\n",
      "6           high.school   no   8484\n",
      "7           high.school  yes   1031\n",
      "8            illiterate   no     14\n",
      "9            illiterate  yes      4\n",
      "10  professional.course   no   4648\n",
      "11  professional.course  yes    595\n",
      "12    university.degree   no  10498\n",
      "13    university.degree  yes   1670\n",
      "14              unknown   no   1480\n",
      "15              unknown  yes    251\n"
     ]
    },
    {
     "data": {
      "text/plain": [
       "<AxesSubplot:xlabel='education', ylabel='Count'>"
      ]
     },
     "execution_count": 13,
     "metadata": {},
     "output_type": "execute_result"
    },
    {
     "data": {
      "image/png": "[encoded data removed]",
      "text/plain": [
       "<Figure size 1080x432 with 1 Axes>"
      ]
     },
     "metadata": {
      "needs_background": "light"
     },
     "output_type": "display_data"
    }
   ],
   "source": [
    "bank_edu = bank.groupby(['education','y']).count()['Count'].reset_index()\n",
    "print(bank_edu)\n",
    "plt.figure(figsize=(15,6))\n",
    "sns.barplot(x=bank_edu['education'],y=bank_edu['Count'],hue=bank_edu['y'])"
   ]
  },
  {
   "cell_type": "code",
   "execution_count": 14,
   "metadata": {},
   "outputs": [
    {
     "name": "stdout",
     "output_type": "stream",
     "text": [
      "   default    y  Count\n",
      "0       no   no  28391\n",
      "1       no  yes   4197\n",
      "2  unknown   no   8154\n",
      "3  unknown  yes    443\n",
      "4      yes   no      3\n"
     ]
    },
    {
     "data": {
      "text/plain": [
       "<AxesSubplot:xlabel='default', ylabel='Count'>"
      ]
     },
     "execution_count": 14,
     "metadata": {},
     "output_type": "execute_result"
    },
    {
     "data": {
      "image/png": "[encoded data removed]",
      "text/plain": [
       "<Figure size 720x432 with 1 Axes>"
      ]
     },
     "metadata": {
      "needs_background": "light"
     },
     "output_type": "display_data"
    }
   ],
   "source": [
    "bank_def = bank.groupby(['default','y']).count()['Count'].reset_index()\n",
    "print(bank_def)\n",
    "plt.figure(figsize=(10,6))\n",
    "sns.barplot(x=bank_def['default'],y=bank_def['Count'],hue=bank_def['y'])"
   ]
  },
  {
   "cell_type": "code",
   "execution_count": 15,
   "metadata": {},
   "outputs": [
    {
     "name": "stdout",
     "output_type": "stream",
     "text": [
      "   housing    y  Count\n",
      "0       no   no  16596\n",
      "1       no  yes   2026\n",
      "2  unknown   no    883\n",
      "3  unknown  yes    107\n",
      "4      yes   no  19069\n",
      "5      yes  yes   2507\n"
     ]
    },
    {
     "data": {
      "text/plain": [
       "<AxesSubplot:xlabel='housing', ylabel='Count'>"
      ]
     },
     "execution_count": 15,
     "metadata": {},
     "output_type": "execute_result"
    },
    {
     "data": {
      "image/png": "[encoded data removed]",
      "text/plain": [
       "<Figure size 576x432 with 1 Axes>"
      ]
     },
     "metadata": {
      "needs_background": "light"
     },
     "output_type": "display_data"
    }
   ],
   "source": [
    "bank_housing = bank.groupby(['housing','y']).count()['Count'].reset_index()\n",
    "print(bank_housing)\n",
    "plt.figure(figsize =(8,6))\n",
    "sns.barplot(x = bank_housing['housing'],y=bank_housing['Count'],hue=bank_housing['y'])"
   ]
  },
  {
   "cell_type": "code",
   "execution_count": 16,
   "metadata": {},
   "outputs": [
    {
     "name": "stdout",
     "output_type": "stream",
     "text": [
      "      loan    y  Count\n",
      "0       no   no  30100\n",
      "1       no  yes   3850\n",
      "2  unknown   no    883\n",
      "3  unknown  yes    107\n",
      "4      yes   no   5565\n",
      "5      yes  yes    683\n"
     ]
    },
    {
     "data": {
      "text/plain": [
       "<AxesSubplot:xlabel='loan', ylabel='Count'>"
      ]
     },
     "execution_count": 16,
     "metadata": {},
     "output_type": "execute_result"
    },
    {
     "data": {
      "image/png": "[encoded data removed]",
      "text/plain": [
       "<Figure size 576x432 with 1 Axes>"
      ]
     },
     "metadata": {
      "needs_background": "light"
     },
     "output_type": "display_data"
    }
   ],
   "source": [
    "bank_loan = bank.groupby(['loan','y']).count()['Count'].reset_index()\n",
    "print(bank_loan)\n",
    "plt.figure(figsize =(8,6))\n",
    "sns.barplot(x = bank_loan['loan'],y=bank_loan['Count'],hue=bank_loan['y'])"
   ]
  },
  {
   "cell_type": "code",
   "execution_count": 17,
   "metadata": {},
   "outputs": [
    {
     "name": "stdout",
     "output_type": "stream",
     "text": [
      "   month    y  Count\n",
      "0    apr   no   2093\n",
      "1    apr  yes    539\n",
      "2    aug   no   5523\n",
      "3    aug  yes    655\n",
      "4    dec   no     93\n",
      "5    dec  yes     89\n",
      "6    jul   no   6525\n",
      "7    jul  yes    649\n",
      "8    jun   no   4759\n",
      "9    jun  yes    559\n",
      "10   mar   no    270\n",
      "11   mar  yes    276\n",
      "12   may   no  12883\n",
      "13   may  yes    886\n",
      "14   nov   no   3685\n",
      "15   nov  yes    416\n",
      "16   oct   no    403\n",
      "17   oct  yes    315\n",
      "18   sep   no    314\n",
      "19   sep  yes    256\n"
     ]
    },
    {
     "data": {
      "text/plain": [
       "<AxesSubplot:xlabel='month', ylabel='Count'>"
      ]
     },
     "execution_count": 17,
     "metadata": {},
     "output_type": "execute_result"
    },
    {
     "data": {
      "image/png": "[encoded data removed]",
      "text/plain": [
       "<Figure size 936x432 with 1 Axes>"
      ]
     },
     "metadata": {
      "needs_background": "light"
     },
     "output_type": "display_data"
    }
   ],
   "source": [
    "bank_month = bank.groupby(['month','y']).count()['Count'].reset_index()\n",
    "print(bank_month)\n",
    "plt.figure(figsize =(13,6))\n",
    "sns.barplot(x = bank_month['month'],y=bank_month['Count'],hue=bank_month['y'])"
   ]
  },
  {
   "cell_type": "code",
   "execution_count": 18,
   "metadata": {},
   "outputs": [
    {
     "name": "stdout",
     "output_type": "stream",
     "text": [
      "  day_of_week    y  Count\n",
      "0         fri   no   6981\n",
      "1         fri  yes    846\n",
      "2         mon   no   7667\n",
      "3         mon  yes    847\n",
      "4         thu   no   7578\n",
      "5         thu  yes   1045\n",
      "6         tue   no   7137\n",
      "7         tue  yes    953\n",
      "8         wed   no   7185\n",
      "9         wed  yes    949\n"
     ]
    },
    {
     "data": {
      "text/plain": [
       "<AxesSubplot:xlabel='day_of_week', ylabel='Count'>"
      ]
     },
     "execution_count": 18,
     "metadata": {},
     "output_type": "execute_result"
    },
    {
     "data": {
      "image/png": "[encoded data removed]",
      "text/plain": [
       "<Figure size 936x432 with 1 Axes>"
      ]
     },
     "metadata": {
      "needs_background": "light"
     },
     "output_type": "display_data"
    }
   ],
   "source": [
    "bank_day = bank.groupby(['day_of_week','y']).count()['Count'].reset_index()\n",
    "print(bank_day)\n",
    "plt.figure(figsize =(13,6))\n",
    "sns.barplot(x = bank_day['day_of_week'],y=bank_day['Count'],hue=bank_day['y'])"
   ]
  },
  {
   "cell_type": "code",
   "execution_count": 19,
   "metadata": {},
   "outputs": [
    {
     "name": "stdout",
     "output_type": "stream",
     "text": [
      "   pdays    y    Count\n",
      "0      0   no      5.0\n",
      "1      0  yes     10.0\n",
      "2      1   no     18.0\n",
      "3      1  yes      8.0\n",
      "4      2   no     24.0\n",
      "5      2  yes     37.0\n",
      "6      3   no    141.0\n",
      "7      3  yes    298.0\n",
      "8      4   no     55.0\n",
      "9      4  yes     63.0\n",
      "10     5   no     17.0\n",
      "11     5  yes     29.0\n",
      "12     6   no    123.0\n",
      "13     6  yes    289.0\n",
      "14     7   no     20.0\n",
      "15     7  yes     40.0\n",
      "16     8   no      6.0\n",
      "17     8  yes     12.0\n",
      "18     9   no     29.0\n",
      "19     9  yes     35.0\n",
      "20    10   no     22.0\n",
      "21    10  yes     30.0\n",
      "22    11   no     13.0\n",
      "23    11  yes     15.0\n",
      "24    12   no     32.0\n",
      "25    12  yes     26.0\n",
      "26    13   no      8.0\n",
      "27    13  yes     28.0\n",
      "28    14   no      9.0\n",
      "29    14  yes     11.0\n",
      "30    15   no      8.0\n",
      "31    15  yes     16.0\n",
      "32    16   no      5.0\n",
      "33    16  yes      6.0\n",
      "34    17   no      6.0\n",
      "35    17  yes      2.0\n",
      "36    18   no      3.0\n",
      "37    18  yes      4.0\n",
      "38    19   no      2.0\n",
      "39    19  yes      1.0\n",
      "40    20   no      1.0\n",
      "41    20  yes      NaN\n",
      "42    21   no      NaN\n",
      "43    21  yes      2.0\n",
      "44    22   no      1.0\n",
      "45    22  yes      2.0\n",
      "46    25   no      NaN\n",
      "47    25  yes      1.0\n",
      "48    26   no      NaN\n",
      "49    26  yes      1.0\n",
      "50    27   no      NaN\n",
      "51    27  yes      1.0\n",
      "52   999   no  36000.0\n",
      "53   999  yes   3673.0\n"
     ]
    },
    {
     "data": {
      "text/plain": [
       "<AxesSubplot:xlabel='pdays', ylabel='Count'>"
      ]
     },
     "execution_count": 19,
     "metadata": {},
     "output_type": "execute_result"
    },
    {
     "data": {
      "image/png": "[encoded data removed]",
      "text/plain": [
       "<Figure size 936x432 with 1 Axes>"
      ]
     },
     "metadata": {
      "needs_background": "light"
     },
     "output_type": "display_data"
    }
   ],
   "source": [
    "bank['pdays']= bank['pdays'].astype('category')\n",
    "bank_pday = bank.groupby(['pdays','y']).count()['Count'].reset_index()\n",
    "print(bank_pday)\n",
    "plt.figure(figsize =(13,6))\n",
    "sns.barplot(x = bank_pday['pdays'],y=bank_pday['Count'],hue=bank_pday['y'])"
   ]
  },
  {
   "cell_type": "code",
   "execution_count": 20,
   "metadata": {},
   "outputs": [
    {
     "name": "stdout",
     "output_type": "stream",
     "text": [
      "   previous    y    Count\n",
      "0         0   no  32422.0\n",
      "1         0  yes   3141.0\n",
      "2         1   no   3594.0\n",
      "3         1  yes    967.0\n",
      "4         2   no    404.0\n",
      "5         2  yes    350.0\n",
      "6         3   no     88.0\n",
      "7         3  yes    128.0\n",
      "8         4   no     32.0\n",
      "9         4  yes     38.0\n",
      "10        5   no      5.0\n",
      "11        5  yes     13.0\n",
      "12        6   no      2.0\n",
      "13        6  yes      3.0\n",
      "14        7   no      1.0\n",
      "15        7  yes      NaN\n"
     ]
    },
    {
     "data": {
      "text/plain": [
       "<AxesSubplot:xlabel='previous', ylabel='Count'>"
      ]
     },
     "execution_count": 20,
     "metadata": {},
     "output_type": "execute_result"
    },
    {
     "data": {
      "image/png": "[encoded data removed]",
      "text/plain": [
       "<Figure size 936x432 with 1 Axes>"
      ]
     },
     "metadata": {
      "needs_background": "light"
     },
     "output_type": "display_data"
    }
   ],
   "source": [
    "bank['previous'] = bank['previous'].astype('category')\n",
    "bank_prev = bank.groupby(['previous','y']).count()['Count'].reset_index()\n",
    "print(bank_prev)\n",
    "plt.figure(figsize =(13,6))\n",
    "sns.barplot(x = bank_prev['previous'],y=bank_prev['Count'],hue=bank_prev['y'])"
   ]
  },
  {
   "cell_type": "code",
   "execution_count": 21,
   "metadata": {},
   "outputs": [
    {
     "name": "stdout",
     "output_type": "stream",
     "text": [
      "      poutcome    y  Count\n",
      "0      failure   no   3647\n",
      "1      failure  yes    605\n",
      "2  nonexistent   no  32422\n",
      "3  nonexistent  yes   3141\n",
      "4      success   no    479\n",
      "5      success  yes    894\n"
     ]
    },
    {
     "data": {
      "text/plain": [
       "<AxesSubplot:xlabel='poutcome', ylabel='Count'>"
      ]
     },
     "execution_count": 21,
     "metadata": {},
     "output_type": "execute_result"
    },
    {
     "data": {
      "image/png": "[encoded data removed]",
      "text/plain": [
       "<Figure size 936x432 with 1 Axes>"
      ]
     },
     "metadata": {
      "needs_background": "light"
     },
     "output_type": "display_data"
    }
   ],
   "source": [
    "bank_pcome = bank.groupby(['poutcome','y']).count()['Count'].reset_index()\n",
    "print(bank_pcome)\n",
    "plt.figure(figsize =(13,6))\n",
    "sns.barplot(x = bank_pcome['poutcome'],y=bank_pcome['Count'],hue=bank_pcome['y'])"
   ]
  },
  {
   "cell_type": "code",
   "execution_count": 22,
   "metadata": {},
   "outputs": [
    {
     "data": {
      "text/plain": [
       "<AxesSubplot:xlabel='emp.var.rate', ylabel='euribor3m'>"
      ]
     },
     "execution_count": 22,
     "metadata": {},
     "output_type": "execute_result"
    },
    {
     "data": {
      "image/png": "[encoded data removed]",
      "text/plain": [
       "<Figure size 936x936 with 1 Axes>"
      ]
     },
     "metadata": {
      "needs_background": "light"
     },
     "output_type": "display_data"
    }
   ],
   "source": [
    "plt.figure(figsize =(13,13))\n",
    "sns.lineplot(y = bank['euribor3m'],x=bank['emp.var.rate'])"
   ]
  },
  {
   "cell_type": "code",
   "execution_count": 23,
   "metadata": {},
   "outputs": [],
   "source": [
    "X = bank.copy()\n",
    "Y = X.pop('y')"
   ]
  },
  {
   "cell_type": "code",
   "execution_count": 24,
   "metadata": {},
   "outputs": [
    {
     "name": "stdout",
     "output_type": "stream",
     "text": [
      "<class 'pandas.core.frame.DataFrame'>\n",
      "RangeIndex: 41188 entries, 0 to 41187\n",
      "Data columns (total 22 columns):\n",
      " #   Column          Non-Null Count  Dtype   \n",
      "---  ------          --------------  -----   \n",
      " 0   age             41188 non-null  int64   \n",
      " 1   job             41188 non-null  object  \n",
      " 2   marital         41188 non-null  object  \n",
      " 3   education       41188 non-null  object  \n",
      " 4   default         41188 non-null  object  \n",
      " 5   housing         41188 non-null  object  \n",
      " 6   loan            41188 non-null  object  \n",
      " 7   contact         41188 non-null  object  \n",
      " 8   month           41188 non-null  object  \n",
      " 9   day_of_week     41188 non-null  object  \n",
      " 10  duration        41188 non-null  int64   \n",
      " 11  campaign        41188 non-null  int64   \n",
      " 12  pdays           41188 non-null  category\n",
      " 13  previous        41188 non-null  category\n",
      " 14  poutcome        41188 non-null  object  \n",
      " 15  emp.var.rate    41188 non-null  float64 \n",
      " 16  cons.price.idx  41188 non-null  float64 \n",
      " 17  cons.conf.idx   41188 non-null  float64 \n",
      " 18  euribor3m       41188 non-null  float64 \n",
      " 19  nr.employed     41188 non-null  float64 \n",
      " 20  Count           41188 non-null  int64   \n",
      " 21  age_group       41141 non-null  category\n",
      "dtypes: category(3), float64(5), int64(4), object(10)\n",
      "memory usage: 6.1+ MB\n"
     ]
    }
   ],
   "source": [
    "X.info()"
   ]
  },
  {
   "cell_type": "code",
   "execution_count": 25,
   "metadata": {},
   "outputs": [],
   "source": [
    "bank_dummy = pd.get_dummies(X[['job','marital','education','default','housing',\n",
    "                                      'loan','contact','month','day_of_week','pdays','previous','poutcome','age_group']])"
   ]
  },
  {
   "cell_type": "code",
   "execution_count": 84,
   "metadata": {},
   "outputs": [],
   "source": [
    "bank_concat = pd.concat((X.drop(['job','marital','education','default','housing','age',\n",
    "                   'loan','contact','month','day_of_week','pdays','previous','poutcome','Count','age_group','duration'],axis=1),\n",
    "                    bank_dummy.drop(['pdays_8','pdays_1','pdays_10','pdays_7','pdays_0','pdays_9','pdays_13','pdays_14',\n",
    "                    'pdays_15','pdays_16','education_illiterate','age_group_>100','default_yes',\n",
    "                    'pdays_5','pdays_11','pdays_17','pdays_18','pdays_19','pdays_20','pdays_21','pdays_22',\n",
    "                    'pdays_25','pdays_26','pdays_27','previous_5','previous_6','previous_7','previous_4','marital_unknown',\n",
    "                    'pdays_12','pdays_2'],axis=1)),axis=1)"
   ]
  },
  {
   "cell_type": "code",
   "execution_count": 85,
   "metadata": {},
   "outputs": [
    {
     "name": "stdout",
     "output_type": "stream",
     "text": [
      "<class 'pandas.core.frame.DataFrame'>\n",
      "RangeIndex: 41188 entries, 0 to 41187\n",
      "Data columns (total 72 columns):\n",
      " #   Column                         Non-Null Count  Dtype  \n",
      "---  ------                         --------------  -----  \n",
      " 0   campaign                       41188 non-null  int64  \n",
      " 1   emp.var.rate                   41188 non-null  float64\n",
      " 2   cons.price.idx                 41188 non-null  float64\n",
      " 3   cons.conf.idx                  41188 non-null  float64\n",
      " 4   euribor3m                      41188 non-null  float64\n",
      " 5   nr.employed                    41188 non-null  float64\n",
      " 6   job_admin.                     41188 non-null  uint8  \n",
      " 7   job_blue-collar                41188 non-null  uint8  \n",
      " 8   job_entrepreneur               41188 non-null  uint8  \n",
      " 9   job_housemaid                  41188 non-null  uint8  \n",
      " 10  job_management                 41188 non-null  uint8  \n",
      " 11  job_retired                    41188 non-null  uint8  \n",
      " 12  job_self-employed              41188 non-null  uint8  \n",
      " 13  job_services                   41188 non-null  uint8  \n",
      " 14  job_student                    41188 non-null  uint8  \n",
      " 15  job_technician                 41188 non-null  uint8  \n",
      " 16  job_unemployed                 41188 non-null  uint8  \n",
      " 17  job_unknown                    41188 non-null  uint8  \n",
      " 18  marital_divorced               41188 non-null  uint8  \n",
      " 19  marital_married                41188 non-null  uint8  \n",
      " 20  marital_single                 41188 non-null  uint8  \n",
      " 21  education_basic.4y             41188 non-null  uint8  \n",
      " 22  education_basic.6y             41188 non-null  uint8  \n",
      " 23  education_basic.9y             41188 non-null  uint8  \n",
      " 24  education_high.school          41188 non-null  uint8  \n",
      " 25  education_professional.course  41188 non-null  uint8  \n",
      " 26  education_university.degree    41188 non-null  uint8  \n",
      " 27  education_unknown              41188 non-null  uint8  \n",
      " 28  default_no                     41188 non-null  uint8  \n",
      " 29  default_unknown                41188 non-null  uint8  \n",
      " 30  housing_no                     41188 non-null  uint8  \n",
      " 31  housing_unknown                41188 non-null  uint8  \n",
      " 32  housing_yes                    41188 non-null  uint8  \n",
      " 33  loan_no                        41188 non-null  uint8  \n",
      " 34  loan_unknown                   41188 non-null  uint8  \n",
      " 35  loan_yes                       41188 non-null  uint8  \n",
      " 36  contact_cellular               41188 non-null  uint8  \n",
      " 37  contact_telephone              41188 non-null  uint8  \n",
      " 38  month_apr                      41188 non-null  uint8  \n",
      " 39  month_aug                      41188 non-null  uint8  \n",
      " 40  month_dec                      41188 non-null  uint8  \n",
      " 41  month_jul                      41188 non-null  uint8  \n",
      " 42  month_jun                      41188 non-null  uint8  \n",
      " 43  month_mar                      41188 non-null  uint8  \n",
      " 44  month_may                      41188 non-null  uint8  \n",
      " 45  month_nov                      41188 non-null  uint8  \n",
      " 46  month_oct                      41188 non-null  uint8  \n",
      " 47  month_sep                      41188 non-null  uint8  \n",
      " 48  day_of_week_fri                41188 non-null  uint8  \n",
      " 49  day_of_week_mon                41188 non-null  uint8  \n",
      " 50  day_of_week_thu                41188 non-null  uint8  \n",
      " 51  day_of_week_tue                41188 non-null  uint8  \n",
      " 52  day_of_week_wed                41188 non-null  uint8  \n",
      " 53  pdays_3                        41188 non-null  uint8  \n",
      " 54  pdays_4                        41188 non-null  uint8  \n",
      " 55  pdays_6                        41188 non-null  uint8  \n",
      " 56  pdays_999                      41188 non-null  uint8  \n",
      " 57  previous_0                     41188 non-null  uint8  \n",
      " 58  previous_1                     41188 non-null  uint8  \n",
      " 59  previous_2                     41188 non-null  uint8  \n",
      " 60  previous_3                     41188 non-null  uint8  \n",
      " 61  poutcome_failure               41188 non-null  uint8  \n",
      " 62  poutcome_nonexistent           41188 non-null  uint8  \n",
      " 63  poutcome_success               41188 non-null  uint8  \n",
      " 64  age_group_>20                  41188 non-null  uint8  \n",
      " 65  age_group_>30                  41188 non-null  uint8  \n",
      " 66  age_group_>40                  41188 non-null  uint8  \n",
      " 67  age_group_>50                  41188 non-null  uint8  \n",
      " 68  age_group_>60                  41188 non-null  uint8  \n",
      " 69  age_group_>70                  41188 non-null  uint8  \n",
      " 70  age_group_>80                  41188 non-null  uint8  \n",
      " 71  age_group_>90                  41188 non-null  uint8  \n",
      "dtypes: float64(5), int64(1), uint8(66)\n",
      "memory usage: 4.5 MB\n"
     ]
    }
   ],
   "source": [
    "bank_concat.info()"
   ]
  },
  {
   "cell_type": "markdown",
   "metadata": {},
   "source": [
    "Performing Standard Sacling"
   ]
  },
  {
   "cell_type": "code",
   "execution_count": 86,
   "metadata": {},
   "outputs": [],
   "source": [
    "scale = StandardScaler()"
   ]
  },
  {
   "cell_type": "code",
   "execution_count": 87,
   "metadata": {},
   "outputs": [],
   "source": [
    "bank_std = scale.fit_transform(bank_concat)"
   ]
  },
  {
   "cell_type": "markdown",
   "metadata": {},
   "source": [
    "Performing Train Test Split"
   ]
  },
  {
   "cell_type": "code",
   "execution_count": 88,
   "metadata": {},
   "outputs": [],
   "source": [
    "X_train,X_test,y_train,y_test = train_test_split(bank_std,Y,test_size=0.2)"
   ]
  },
  {
   "cell_type": "code",
   "execution_count": 89,
   "metadata": {},
   "outputs": [],
   "source": [
    "smt = SMOTE()"
   ]
  },
  {
   "cell_type": "code",
   "execution_count": 90,
   "metadata": {},
   "outputs": [],
   "source": [
    "X_train_smt,y_train_smt = smt.fit_sample(X_train,y_train)"
   ]
  },
  {
   "cell_type": "code",
   "execution_count": 91,
   "metadata": {},
   "outputs": [
    {
     "data": {
      "text/plain": [
       "(no     29212\n",
       " yes     3738\n",
       " Name: y, dtype: int64,\n",
       " no     29212\n",
       " yes    29212\n",
       " Name: y, dtype: int64)"
      ]
     },
     "execution_count": 91,
     "metadata": {},
     "output_type": "execute_result"
    }
   ],
   "source": [
    "y_train.value_counts(),y_train_smt.value_counts()"
   ]
  },
  {
   "cell_type": "code",
   "execution_count": 92,
   "metadata": {},
   "outputs": [
    {
     "name": "stderr",
     "output_type": "stream",
     "text": [
      "c:\\users\\kumar\\appdata\\local\\programs\\python\\python38\\lib\\site-packages\\sklearn\\linear_model\\_logistic.py:762: ConvergenceWarning: lbfgs failed to converge (status=1):\n",
      "STOP: TOTAL NO. of ITERATIONS REACHED LIMIT.\n",
      "\n",
      "Increase the number of iterations (max_iter) or scale the data as shown in:\n",
      "    https://scikit-learn.org/stable/modules/preprocessing.html\n",
      "Please also refer to the documentation for alternative solver options:\n",
      "    https://scikit-learn.org/stable/modules/linear_model.html#logistic-regression\n",
      "  n_iter_i = _check_optimize_result(\n"
     ]
    }
   ],
   "source": [
    "logic = LogisticRegression()\n",
    "logic.fit(X_train_smt,y_train_smt)\n",
    "logic_predict = logic.predict(X_test)"
   ]
  },
  {
   "cell_type": "code",
   "execution_count": 93,
   "metadata": {},
   "outputs": [
    {
     "name": "stdout",
     "output_type": "stream",
     "text": [
      "Accuracy Score 0.818766690944404\n",
      "[[6179 1157]\n",
      " [ 336  566]]\n",
      "              precision    recall  f1-score   support\n",
      "\n",
      "          no       0.95      0.84      0.89      7336\n",
      "         yes       0.33      0.63      0.43       902\n",
      "\n",
      "    accuracy                           0.82      8238\n",
      "   macro avg       0.64      0.73      0.66      8238\n",
      "weighted avg       0.88      0.82      0.84      8238\n",
      "\n"
     ]
    }
   ],
   "source": [
    "print('Accuracy Score',accuracy_score(y_test,logic_predict))\n",
    "print(confusion_matrix(y_test,logic_predict))\n",
    "print(classification_report(y_test,logic_predict))"
   ]
  },
  {
   "cell_type": "code",
   "execution_count": 94,
   "metadata": {},
   "outputs": [
    {
     "name": "stderr",
     "output_type": "stream",
     "text": [
      "c:\\users\\kumar\\appdata\\local\\programs\\python\\python38\\lib\\site-packages\\sklearn\\linear_model\\_logistic.py:762: ConvergenceWarning: lbfgs failed to converge (status=1):\n",
      "STOP: TOTAL NO. of ITERATIONS REACHED LIMIT.\n",
      "\n",
      "Increase the number of iterations (max_iter) or scale the data as shown in:\n",
      "    https://scikit-learn.org/stable/modules/preprocessing.html\n",
      "Please also refer to the documentation for alternative solver options:\n",
      "    https://scikit-learn.org/stable/modules/linear_model.html#logistic-regression\n",
      "  n_iter_i = _check_optimize_result(\n",
      "c:\\users\\kumar\\appdata\\local\\programs\\python\\python38\\lib\\site-packages\\sklearn\\linear_model\\_logistic.py:762: ConvergenceWarning: lbfgs failed to converge (status=1):\n",
      "STOP: TOTAL NO. of ITERATIONS REACHED LIMIT.\n",
      "\n",
      "Increase the number of iterations (max_iter) or scale the data as shown in:\n",
      "    https://scikit-learn.org/stable/modules/preprocessing.html\n",
      "Please also refer to the documentation for alternative solver options:\n",
      "    https://scikit-learn.org/stable/modules/linear_model.html#logistic-regression\n",
      "  n_iter_i = _check_optimize_result(\n",
      "c:\\users\\kumar\\appdata\\local\\programs\\python\\python38\\lib\\site-packages\\sklearn\\linear_model\\_logistic.py:762: ConvergenceWarning: lbfgs failed to converge (status=1):\n",
      "STOP: TOTAL NO. of ITERATIONS REACHED LIMIT.\n",
      "\n",
      "Increase the number of iterations (max_iter) or scale the data as shown in:\n",
      "    https://scikit-learn.org/stable/modules/preprocessing.html\n",
      "Please also refer to the documentation for alternative solver options:\n",
      "    https://scikit-learn.org/stable/modules/linear_model.html#logistic-regression\n",
      "  n_iter_i = _check_optimize_result(\n",
      "c:\\users\\kumar\\appdata\\local\\programs\\python\\python38\\lib\\site-packages\\sklearn\\linear_model\\_logistic.py:762: ConvergenceWarning: lbfgs failed to converge (status=1):\n",
      "STOP: TOTAL NO. of ITERATIONS REACHED LIMIT.\n",
      "\n",
      "Increase the number of iterations (max_iter) or scale the data as shown in:\n",
      "    https://scikit-learn.org/stable/modules/preprocessing.html\n",
      "Please also refer to the documentation for alternative solver options:\n",
      "    https://scikit-learn.org/stable/modules/linear_model.html#logistic-regression\n",
      "  n_iter_i = _check_optimize_result(\n",
      "c:\\users\\kumar\\appdata\\local\\programs\\python\\python38\\lib\\site-packages\\sklearn\\linear_model\\_logistic.py:762: ConvergenceWarning: lbfgs failed to converge (status=1):\n",
      "STOP: TOTAL NO. of ITERATIONS REACHED LIMIT.\n",
      "\n",
      "Increase the number of iterations (max_iter) or scale the data as shown in:\n",
      "    https://scikit-learn.org/stable/modules/preprocessing.html\n",
      "Please also refer to the documentation for alternative solver options:\n",
      "    https://scikit-learn.org/stable/modules/linear_model.html#logistic-regression\n",
      "  n_iter_i = _check_optimize_result(\n"
     ]
    },
    {
     "data": {
      "text/plain": [
       "array([0.89835721, 0.89981387, 0.90118961, 0.89843813, 0.89382536])"
      ]
     },
     "execution_count": 94,
     "metadata": {},
     "output_type": "execute_result"
    }
   ],
   "source": [
    "cv = ShuffleSplit(n_splits=5, test_size=0.3, random_state=0)\n",
    "cross_val_score(logic, bank_std, Y, cv=cv)"
   ]
  },
  {
   "cell_type": "code",
   "execution_count": 101,
   "metadata": {},
   "outputs": [],
   "source": [
    "rfc = RandomForestClassifier(n_estimators=120,max_depth=35,min_samples_leaf=3)\n",
    "rfc.fit(X_train_smt,y_train_smt)\n",
    "rfc_predict = rfc.predict(X_test)"
   ]
  },
  {
   "cell_type": "code",
   "execution_count": 102,
   "metadata": {},
   "outputs": [
    {
     "name": "stdout",
     "output_type": "stream",
     "text": [
      "Accuracy Score 0.8920854576353484\n",
      "[[6977  359]\n",
      " [ 530  372]]\n",
      "              precision    recall  f1-score   support\n",
      "\n",
      "          no       0.93      0.95      0.94      7336\n",
      "         yes       0.51      0.41      0.46       902\n",
      "\n",
      "    accuracy                           0.89      8238\n",
      "   macro avg       0.72      0.68      0.70      8238\n",
      "weighted avg       0.88      0.89      0.89      8238\n",
      "\n"
     ]
    }
   ],
   "source": [
    "print('Accuracy Score',accuracy_score(y_test,rfc_predict))\n",
    "print(confusion_matrix(y_test,rfc_predict))\n",
    "print(classification_report(y_test,rfc_predict))"
   ]
  },
  {
   "cell_type": "code",
   "execution_count": 103,
   "metadata": {},
   "outputs": [
    {
     "data": {
      "text/plain": [
       "array([0.89884276, 0.90070405, 0.90256535, 0.89746702, 0.89439184])"
      ]
     },
     "execution_count": 103,
     "metadata": {},
     "output_type": "execute_result"
    }
   ],
   "source": [
    "cv = ShuffleSplit(n_splits=5, test_size=0.3, random_state=0)\n",
    "cross_val_score(rfc, bank_std, Y, cv=cv)"
   ]
  },
  {
   "cell_type": "code",
   "execution_count": 98,
   "metadata": {},
   "outputs": [
    {
     "data": {
      "text/plain": [
       "[(0.11455430357862313, 'euribor3m'),\n",
       " (0.06646483509999822, 'campaign'),\n",
       " (0.062493332714239055, 'nr.employed'),\n",
       " (0.061475278440630526, 'emp.var.rate'),\n",
       " (0.04036022462052091, 'cons.conf.idx'),\n",
       " (0.036920766516825736, 'housing_yes'),\n",
       " (0.03446587129282316, 'housing_no'),\n",
       " (0.033001901503494954, 'contact_telephone'),\n",
       " (0.02851464183277784, 'age_group_>50'),\n",
       " (0.027958674906681125, 'cons.price.idx'),\n",
       " (0.025779330963309945, 'age_group_>40'),\n",
       " (0.025390068635812953, 'contact_cellular'),\n",
       " (0.02261116733790592, 'pdays_999'),\n",
       " (0.022295888191520577, 'month_may'),\n",
       " (0.020838078191699718, 'marital_married'),\n",
       " (0.02051481007188311, 'day_of_week_thu'),\n",
       " (0.02024314211120493, 'day_of_week_wed'),\n",
       " (0.020156619736704035, 'education_university.degree'),\n",
       " (0.020151578150879302, 'day_of_week_mon'),\n",
       " (0.0195811131366469, 'day_of_week_fri'),\n",
       " (0.019303757182919722, 'default_unknown'),\n",
       " (0.017792476409114792, 'default_no'),\n",
       " (0.017568712178444447, 'day_of_week_tue'),\n",
       " (0.017503428344436172, 'marital_single'),\n",
       " (0.014806607895191696, 'poutcome_success'),\n",
       " (0.013207986190069217, 'job_admin.'),\n",
       " (0.012612987243522712, 'education_high.school'),\n",
       " (0.011431992153647761, 'age_group_>60'),\n",
       " (0.010722345198466193, 'job_blue-collar'),\n",
       " (0.008647943649360777, 'loan_no'),\n",
       " (0.008380693862473714, 'age_group_>30'),\n",
       " (0.008196064566800583, 'loan_yes'),\n",
       " (0.008193464618789337, 'previous_0'),\n",
       " (0.008181302060812067, 'education_basic.9y'),\n",
       " (0.007697594340648419, 'job_technician'),\n",
       " (0.007388412101490472, 'poutcome_nonexistent'),\n",
       " (0.0069567084429174525, 'marital_divorced'),\n",
       " (0.006517922831124594, 'education_professional.course'),\n",
       " (0.005302362656395202, 'month_jun'),\n",
       " (0.005246569006368626, 'month_oct'),\n",
       " (0.005084077840189109, 'month_jul'),\n",
       " (0.004867999659705743, 'job_services'),\n",
       " (0.004598680528037481, 'poutcome_failure'),\n",
       " (0.0044503964168576965, 'month_nov'),\n",
       " (0.0040929002958761266, 'month_aug'),\n",
       " (0.003918150982618646, 'month_apr'),\n",
       " (0.003791465697187762, 'job_management'),\n",
       " (0.0036428410275022383, 'education_basic.4y'),\n",
       " (0.0026260603903066064, 'job_retired'),\n",
       " (0.0025382022900599446, 'month_mar'),\n",
       " (0.002468972332693392, 'previous_1'),\n",
       " (0.0023248216039598118, 'education_basic.6y'),\n",
       " (0.0022556166899524365, 'education_unknown'),\n",
       " (0.001727108573152402, 'job_self-employed'),\n",
       " (0.0016000618106814463, 'job_student'),\n",
       " (0.0013881916588664555, 'job_entrepreneur'),\n",
       " (0.0010942747116910502, 'age_group_>70'),\n",
       " (0.0010620180595952635, 'loan_unknown'),\n",
       " (0.0009813553772285856, 'pdays_3'),\n",
       " (0.0009728016363282671, 'housing_unknown'),\n",
       " (0.0009074105581281542, 'previous_2'),\n",
       " (0.0008644687099940031, 'job_housemaid'),\n",
       " (0.0007717446912518005, 'pdays_6'),\n",
       " (0.0006686583854059228, 'job_unemployed'),\n",
       " (0.0005469921004482971, 'month_sep'),\n",
       " (0.000298062442939309, 'job_unknown'),\n",
       " (0.0002631442447234285, 'age_group_>80'),\n",
       " (0.00020705422799954966, 'previous_3'),\n",
       " (0.0001852881702294067, 'age_group_>90'),\n",
       " (0.00016256882190140843, 'age_group_>20'),\n",
       " (0.00013976212611272284, 'month_dec'),\n",
       " (6.788997119958263e-05, 'pdays_4')]"
      ]
     },
     "execution_count": 98,
     "metadata": {},
     "output_type": "execute_result"
    }
   ],
   "source": [
    "sorted(list(zip(rfc.feature_importances_,bank_concat.columns)),reverse=True)"
   ]
  },
  {
   "cell_type": "code",
   "execution_count": 99,
   "metadata": {},
   "outputs": [
    {
     "name": "stdout",
     "output_type": "stream",
     "text": [
      "Fitting 5 folds for each of 48 candidates, totalling 240 fits\n",
      "[CV] max_depth=20, min_samples_leaf=3, n_estimators=120 ..............\n"
     ]
    },
    {
     "name": "stderr",
     "output_type": "stream",
     "text": [
      "[Parallel(n_jobs=1)]: Using backend SequentialBackend with 1 concurrent workers.\n"
     ]
    },
    {
     "name": "stdout",
     "output_type": "stream",
     "text": [
      "[CV]  max_depth=20, min_samples_leaf=3, n_estimators=120, score=0.799, total=  11.3s\n",
      "[CV] max_depth=20, min_samples_leaf=3, n_estimators=120 ..............\n"
     ]
    },
    {
     "name": "stderr",
     "output_type": "stream",
     "text": [
      "[Parallel(n_jobs=1)]: Done   1 out of   1 | elapsed:   11.2s remaining:    0.0s\n"
     ]
    },
    {
     "name": "stdout",
     "output_type": "stream",
     "text": [
      "[CV]  max_depth=20, min_samples_leaf=3, n_estimators=120, score=0.958, total=  10.4s\n",
      "[CV] max_depth=20, min_samples_leaf=3, n_estimators=120 ..............\n"
     ]
    },
    {
     "name": "stderr",
     "output_type": "stream",
     "text": [
      "[Parallel(n_jobs=1)]: Done   2 out of   2 | elapsed:   21.7s remaining:    0.0s\n"
     ]
    },
    {
     "name": "stdout",
     "output_type": "stream",
     "text": [
      "[CV]  max_depth=20, min_samples_leaf=3, n_estimators=120, score=0.961, total=  10.7s\n",
      "[CV] max_depth=20, min_samples_leaf=3, n_estimators=120 ..............\n",
      "[CV]  max_depth=20, min_samples_leaf=3, n_estimators=120, score=0.957, total=  10.6s\n",
      "[CV] max_depth=20, min_samples_leaf=3, n_estimators=120 ..............\n",
      "[CV]  max_depth=20, min_samples_leaf=3, n_estimators=120, score=0.960, total=  10.5s\n",
      "[CV] max_depth=20, min_samples_leaf=3, n_estimators=150 ..............\n",
      "[CV]  max_depth=20, min_samples_leaf=3, n_estimators=150, score=0.798, total=  13.1s\n",
      "[CV] max_depth=20, min_samples_leaf=3, n_estimators=150 ..............\n",
      "[CV]  max_depth=20, min_samples_leaf=3, n_estimators=150, score=0.959, total=  12.9s\n",
      "[CV] max_depth=20, min_samples_leaf=3, n_estimators=150 ..............\n",
      "[CV]  max_depth=20, min_samples_leaf=3, n_estimators=150, score=0.961, total=  13.0s\n",
      "[CV] max_depth=20, min_samples_leaf=3, n_estimators=150 ..............\n",
      "[CV]  max_depth=20, min_samples_leaf=3, n_estimators=150, score=0.957, total=  13.2s\n",
      "[CV] max_depth=20, min_samples_leaf=3, n_estimators=150 ..............\n",
      "[CV]  max_depth=20, min_samples_leaf=3, n_estimators=150, score=0.960, total=  13.0s\n",
      "[CV] max_depth=20, min_samples_leaf=3, n_estimators=180 ..............\n",
      "[CV]  max_depth=20, min_samples_leaf=3, n_estimators=180, score=0.798, total=  15.4s\n",
      "[CV] max_depth=20, min_samples_leaf=3, n_estimators=180 ..............\n",
      "[CV]  max_depth=20, min_samples_leaf=3, n_estimators=180, score=0.959, total=  15.7s\n",
      "[CV] max_depth=20, min_samples_leaf=3, n_estimators=180 ..............\n",
      "[CV]  max_depth=20, min_samples_leaf=3, n_estimators=180, score=0.961, total=  15.6s\n",
      "[CV] max_depth=20, min_samples_leaf=3, n_estimators=180 ..............\n",
      "[CV]  max_depth=20, min_samples_leaf=3, n_estimators=180, score=0.958, total=  15.4s\n",
      "[CV] max_depth=20, min_samples_leaf=3, n_estimators=180 ..............\n",
      "[CV]  max_depth=20, min_samples_leaf=3, n_estimators=180, score=0.960, total=  16.6s\n",
      "[CV] max_depth=20, min_samples_leaf=3, n_estimators=200 ..............\n",
      "[CV]  max_depth=20, min_samples_leaf=3, n_estimators=200, score=0.798, total=  17.5s\n",
      "[CV] max_depth=20, min_samples_leaf=3, n_estimators=200 ..............\n",
      "[CV]  max_depth=20, min_samples_leaf=3, n_estimators=200, score=0.959, total=  17.3s\n",
      "[CV] max_depth=20, min_samples_leaf=3, n_estimators=200 ..............\n",
      "[CV]  max_depth=20, min_samples_leaf=3, n_estimators=200, score=0.961, total=  17.2s\n",
      "[CV] max_depth=20, min_samples_leaf=3, n_estimators=200 ..............\n",
      "[CV]  max_depth=20, min_samples_leaf=3, n_estimators=200, score=0.957, total=  17.5s\n",
      "[CV] max_depth=20, min_samples_leaf=3, n_estimators=200 ..............\n",
      "[CV]  max_depth=20, min_samples_leaf=3, n_estimators=200, score=0.960, total=  17.4s\n",
      "[CV] max_depth=20, min_samples_leaf=5, n_estimators=120 ..............\n",
      "[CV]  max_depth=20, min_samples_leaf=5, n_estimators=120, score=0.803, total=  10.2s\n",
      "[CV] max_depth=20, min_samples_leaf=5, n_estimators=120 ..............\n",
      "[CV]  max_depth=20, min_samples_leaf=5, n_estimators=120, score=0.952, total=  10.2s\n",
      "[CV] max_depth=20, min_samples_leaf=5, n_estimators=120 ..............\n",
      "[CV]  max_depth=20, min_samples_leaf=5, n_estimators=120, score=0.953, total=  10.1s\n",
      "[CV] max_depth=20, min_samples_leaf=5, n_estimators=120 ..............\n",
      "[CV]  max_depth=20, min_samples_leaf=5, n_estimators=120, score=0.953, total=  10.1s\n",
      "[CV] max_depth=20, min_samples_leaf=5, n_estimators=120 ..............\n",
      "[CV]  max_depth=20, min_samples_leaf=5, n_estimators=120, score=0.953, total=  10.1s\n",
      "[CV] max_depth=20, min_samples_leaf=5, n_estimators=150 ..............\n",
      "[CV]  max_depth=20, min_samples_leaf=5, n_estimators=150, score=0.801, total=  12.8s\n",
      "[CV] max_depth=20, min_samples_leaf=5, n_estimators=150 ..............\n",
      "[CV]  max_depth=20, min_samples_leaf=5, n_estimators=150, score=0.952, total=  12.4s\n",
      "[CV] max_depth=20, min_samples_leaf=5, n_estimators=150 ..............\n",
      "[CV]  max_depth=20, min_samples_leaf=5, n_estimators=150, score=0.954, total=  12.6s\n",
      "[CV] max_depth=20, min_samples_leaf=5, n_estimators=150 ..............\n",
      "[CV]  max_depth=20, min_samples_leaf=5, n_estimators=150, score=0.952, total=  12.8s\n",
      "[CV] max_depth=20, min_samples_leaf=5, n_estimators=150 ..............\n",
      "[CV]  max_depth=20, min_samples_leaf=5, n_estimators=150, score=0.954, total=  12.5s\n",
      "[CV] max_depth=20, min_samples_leaf=5, n_estimators=180 ..............\n",
      "[CV]  max_depth=20, min_samples_leaf=5, n_estimators=180, score=0.800, total=  15.3s\n",
      "[CV] max_depth=20, min_samples_leaf=5, n_estimators=180 ..............\n",
      "[CV]  max_depth=20, min_samples_leaf=5, n_estimators=180, score=0.952, total=  15.1s\n",
      "[CV] max_depth=20, min_samples_leaf=5, n_estimators=180 ..............\n",
      "[CV]  max_depth=20, min_samples_leaf=5, n_estimators=180, score=0.955, total=  16.8s\n",
      "[CV] max_depth=20, min_samples_leaf=5, n_estimators=180 ..............\n",
      "[CV]  max_depth=20, min_samples_leaf=5, n_estimators=180, score=0.951, total=  15.3s\n",
      "[CV] max_depth=20, min_samples_leaf=5, n_estimators=180 ..............\n",
      "[CV]  max_depth=20, min_samples_leaf=5, n_estimators=180, score=0.953, total=  15.1s\n",
      "[CV] max_depth=20, min_samples_leaf=5, n_estimators=200 ..............\n",
      "[CV]  max_depth=20, min_samples_leaf=5, n_estimators=200, score=0.800, total=  17.5s\n",
      "[CV] max_depth=20, min_samples_leaf=5, n_estimators=200 ..............\n",
      "[CV]  max_depth=20, min_samples_leaf=5, n_estimators=200, score=0.951, total=  17.3s\n",
      "[CV] max_depth=20, min_samples_leaf=5, n_estimators=200 ..............\n",
      "[CV]  max_depth=20, min_samples_leaf=5, n_estimators=200, score=0.952, total=  16.9s\n",
      "[CV] max_depth=20, min_samples_leaf=5, n_estimators=200 ..............\n",
      "[CV]  max_depth=20, min_samples_leaf=5, n_estimators=200, score=0.952, total=  16.8s\n",
      "[CV] max_depth=20, min_samples_leaf=5, n_estimators=200 ..............\n",
      "[CV]  max_depth=20, min_samples_leaf=5, n_estimators=200, score=0.953, total=  17.1s\n",
      "[CV] max_depth=20, min_samples_leaf=7, n_estimators=120 ..............\n",
      "[CV]  max_depth=20, min_samples_leaf=7, n_estimators=120, score=0.803, total=  10.1s\n",
      "[CV] max_depth=20, min_samples_leaf=7, n_estimators=120 ..............\n",
      "[CV]  max_depth=20, min_samples_leaf=7, n_estimators=120, score=0.945, total=  10.1s\n",
      "[CV] max_depth=20, min_samples_leaf=7, n_estimators=120 ..............\n",
      "[CV]  max_depth=20, min_samples_leaf=7, n_estimators=120, score=0.949, total=   9.8s\n",
      "[CV] max_depth=20, min_samples_leaf=7, n_estimators=120 ..............\n",
      "[CV]  max_depth=20, min_samples_leaf=7, n_estimators=120, score=0.946, total=  10.0s\n",
      "[CV] max_depth=20, min_samples_leaf=7, n_estimators=120 ..............\n",
      "[CV]  max_depth=20, min_samples_leaf=7, n_estimators=120, score=0.947, total=  10.1s\n",
      "[CV] max_depth=20, min_samples_leaf=7, n_estimators=150 ..............\n",
      "[CV]  max_depth=20, min_samples_leaf=7, n_estimators=150, score=0.803, total=  12.6s\n",
      "[CV] max_depth=20, min_samples_leaf=7, n_estimators=150 ..............\n",
      "[CV]  max_depth=20, min_samples_leaf=7, n_estimators=150, score=0.946, total=  12.4s\n",
      "[CV] max_depth=20, min_samples_leaf=7, n_estimators=150 ..............\n",
      "[CV]  max_depth=20, min_samples_leaf=7, n_estimators=150, score=0.949, total=  12.4s\n",
      "[CV] max_depth=20, min_samples_leaf=7, n_estimators=150 ..............\n",
      "[CV]  max_depth=20, min_samples_leaf=7, n_estimators=150, score=0.947, total=  12.4s\n",
      "[CV] max_depth=20, min_samples_leaf=7, n_estimators=150 ..............\n",
      "[CV]  max_depth=20, min_samples_leaf=7, n_estimators=150, score=0.948, total=  12.4s\n",
      "[CV] max_depth=20, min_samples_leaf=7, n_estimators=180 ..............\n",
      "[CV]  max_depth=20, min_samples_leaf=7, n_estimators=180, score=0.801, total=  14.9s\n",
      "[CV] max_depth=20, min_samples_leaf=7, n_estimators=180 ..............\n",
      "[CV]  max_depth=20, min_samples_leaf=7, n_estimators=180, score=0.946, total=  14.8s\n",
      "[CV] max_depth=20, min_samples_leaf=7, n_estimators=180 ..............\n",
      "[CV]  max_depth=20, min_samples_leaf=7, n_estimators=180, score=0.950, total=  14.7s\n",
      "[CV] max_depth=20, min_samples_leaf=7, n_estimators=180 ..............\n",
      "[CV]  max_depth=20, min_samples_leaf=7, n_estimators=180, score=0.947, total=  14.8s\n",
      "[CV] max_depth=20, min_samples_leaf=7, n_estimators=180 ..............\n",
      "[CV]  max_depth=20, min_samples_leaf=7, n_estimators=180, score=0.948, total=  15.5s\n",
      "[CV] max_depth=20, min_samples_leaf=7, n_estimators=200 ..............\n"
     ]
    },
    {
     "name": "stdout",
     "output_type": "stream",
     "text": [
      "[CV]  max_depth=20, min_samples_leaf=7, n_estimators=200, score=0.803, total=  16.6s\n",
      "[CV] max_depth=20, min_samples_leaf=7, n_estimators=200 ..............\n",
      "[CV]  max_depth=20, min_samples_leaf=7, n_estimators=200, score=0.948, total=  16.4s\n",
      "[CV] max_depth=20, min_samples_leaf=7, n_estimators=200 ..............\n",
      "[CV]  max_depth=20, min_samples_leaf=7, n_estimators=200, score=0.948, total=  16.7s\n",
      "[CV] max_depth=20, min_samples_leaf=7, n_estimators=200 ..............\n",
      "[CV]  max_depth=20, min_samples_leaf=7, n_estimators=200, score=0.947, total=  16.8s\n",
      "[CV] max_depth=20, min_samples_leaf=7, n_estimators=200 ..............\n",
      "[CV]  max_depth=20, min_samples_leaf=7, n_estimators=200, score=0.948, total=  16.6s\n",
      "[CV] max_depth=25, min_samples_leaf=3, n_estimators=120 ..............\n",
      "[CV]  max_depth=25, min_samples_leaf=3, n_estimators=120, score=0.799, total=  11.0s\n",
      "[CV] max_depth=25, min_samples_leaf=3, n_estimators=120 ..............\n",
      "[CV]  max_depth=25, min_samples_leaf=3, n_estimators=120, score=0.962, total=  11.0s\n",
      "[CV] max_depth=25, min_samples_leaf=3, n_estimators=120 ..............\n",
      "[CV]  max_depth=25, min_samples_leaf=3, n_estimators=120, score=0.964, total=  11.0s\n",
      "[CV] max_depth=25, min_samples_leaf=3, n_estimators=120 ..............\n",
      "[CV]  max_depth=25, min_samples_leaf=3, n_estimators=120, score=0.961, total=  11.2s\n",
      "[CV] max_depth=25, min_samples_leaf=3, n_estimators=120 ..............\n",
      "[CV]  max_depth=25, min_samples_leaf=3, n_estimators=120, score=0.965, total=  10.8s\n",
      "[CV] max_depth=25, min_samples_leaf=3, n_estimators=150 ..............\n",
      "[CV]  max_depth=25, min_samples_leaf=3, n_estimators=150, score=0.798, total=  13.8s\n",
      "[CV] max_depth=25, min_samples_leaf=3, n_estimators=150 ..............\n",
      "[CV]  max_depth=25, min_samples_leaf=3, n_estimators=150, score=0.961, total=  13.5s\n",
      "[CV] max_depth=25, min_samples_leaf=3, n_estimators=150 ..............\n",
      "[CV]  max_depth=25, min_samples_leaf=3, n_estimators=150, score=0.965, total=  13.7s\n",
      "[CV] max_depth=25, min_samples_leaf=3, n_estimators=150 ..............\n",
      "[CV]  max_depth=25, min_samples_leaf=3, n_estimators=150, score=0.961, total=  13.7s\n",
      "[CV] max_depth=25, min_samples_leaf=3, n_estimators=150 ..............\n",
      "[CV]  max_depth=25, min_samples_leaf=3, n_estimators=150, score=0.964, total=  14.0s\n",
      "[CV] max_depth=25, min_samples_leaf=3, n_estimators=180 ..............\n",
      "[CV]  max_depth=25, min_samples_leaf=3, n_estimators=180, score=0.799, total=  16.1s\n",
      "[CV] max_depth=25, min_samples_leaf=3, n_estimators=180 ..............\n",
      "[CV]  max_depth=25, min_samples_leaf=3, n_estimators=180, score=0.961, total=  16.5s\n",
      "[CV] max_depth=25, min_samples_leaf=3, n_estimators=180 ..............\n",
      "[CV]  max_depth=25, min_samples_leaf=3, n_estimators=180, score=0.964, total=  16.5s\n",
      "[CV] max_depth=25, min_samples_leaf=3, n_estimators=180 ..............\n",
      "[CV]  max_depth=25, min_samples_leaf=3, n_estimators=180, score=0.962, total=  16.4s\n",
      "[CV] max_depth=25, min_samples_leaf=3, n_estimators=180 ..............\n",
      "[CV]  max_depth=25, min_samples_leaf=3, n_estimators=180, score=0.964, total=  16.4s\n",
      "[CV] max_depth=25, min_samples_leaf=3, n_estimators=200 ..............\n",
      "[CV]  max_depth=25, min_samples_leaf=3, n_estimators=200, score=0.798, total=  18.2s\n",
      "[CV] max_depth=25, min_samples_leaf=3, n_estimators=200 ..............\n",
      "[CV]  max_depth=25, min_samples_leaf=3, n_estimators=200, score=0.961, total=  18.1s\n",
      "[CV] max_depth=25, min_samples_leaf=3, n_estimators=200 ..............\n",
      "[CV]  max_depth=25, min_samples_leaf=3, n_estimators=200, score=0.965, total=  18.3s\n",
      "[CV] max_depth=25, min_samples_leaf=3, n_estimators=200 ..............\n",
      "[CV]  max_depth=25, min_samples_leaf=3, n_estimators=200, score=0.963, total=  19.2s\n",
      "[CV] max_depth=25, min_samples_leaf=3, n_estimators=200 ..............\n",
      "[CV]  max_depth=25, min_samples_leaf=3, n_estimators=200, score=0.963, total=12.0min\n",
      "[CV] max_depth=25, min_samples_leaf=5, n_estimators=120 ..............\n",
      "[CV]  max_depth=25, min_samples_leaf=5, n_estimators=120, score=0.800, total=  12.6s\n",
      "[CV] max_depth=25, min_samples_leaf=5, n_estimators=120 ..............\n",
      "[CV]  max_depth=25, min_samples_leaf=5, n_estimators=120, score=0.955, total=  12.6s\n",
      "[CV] max_depth=25, min_samples_leaf=5, n_estimators=120 ..............\n",
      "[CV]  max_depth=25, min_samples_leaf=5, n_estimators=120, score=0.957, total=  10.4s\n",
      "[CV] max_depth=25, min_samples_leaf=5, n_estimators=120 ..............\n",
      "[CV]  max_depth=25, min_samples_leaf=5, n_estimators=120, score=0.955, total=  10.6s\n",
      "[CV] max_depth=25, min_samples_leaf=5, n_estimators=120 ..............\n",
      "[CV]  max_depth=25, min_samples_leaf=5, n_estimators=120, score=0.957, total=  12.3s\n",
      "[CV] max_depth=25, min_samples_leaf=5, n_estimators=150 ..............\n",
      "[CV]  max_depth=25, min_samples_leaf=5, n_estimators=150, score=0.801, total=  12.9s\n",
      "[CV] max_depth=25, min_samples_leaf=5, n_estimators=150 ..............\n",
      "[CV]  max_depth=25, min_samples_leaf=5, n_estimators=150, score=0.954, total=  13.1s\n",
      "[CV] max_depth=25, min_samples_leaf=5, n_estimators=150 ..............\n",
      "[CV]  max_depth=25, min_samples_leaf=5, n_estimators=150, score=0.957, total=  13.9s\n",
      "[CV] max_depth=25, min_samples_leaf=5, n_estimators=150 ..............\n",
      "[CV]  max_depth=25, min_samples_leaf=5, n_estimators=150, score=0.955, total=  13.7s\n",
      "[CV] max_depth=25, min_samples_leaf=5, n_estimators=150 ..............\n",
      "[CV]  max_depth=25, min_samples_leaf=5, n_estimators=150, score=0.956, total=  14.7s\n",
      "[CV] max_depth=25, min_samples_leaf=5, n_estimators=180 ..............\n",
      "[CV]  max_depth=25, min_samples_leaf=5, n_estimators=180, score=0.803, total=  17.3s\n",
      "[CV] max_depth=25, min_samples_leaf=5, n_estimators=180 ..............\n",
      "[CV]  max_depth=25, min_samples_leaf=5, n_estimators=180, score=0.954, total=  16.7s\n",
      "[CV] max_depth=25, min_samples_leaf=5, n_estimators=180 ..............\n",
      "[CV]  max_depth=25, min_samples_leaf=5, n_estimators=180, score=0.958, total=  17.2s\n",
      "[CV] max_depth=25, min_samples_leaf=5, n_estimators=180 ..............\n",
      "[CV]  max_depth=25, min_samples_leaf=5, n_estimators=180, score=0.954, total=  17.1s\n",
      "[CV] max_depth=25, min_samples_leaf=5, n_estimators=180 ..............\n",
      "[CV]  max_depth=25, min_samples_leaf=5, n_estimators=180, score=0.957, total=  15.9s\n",
      "[CV] max_depth=25, min_samples_leaf=5, n_estimators=200 ..............\n",
      "[CV]  max_depth=25, min_samples_leaf=5, n_estimators=200, score=0.802, total=  22.6s\n",
      "[CV] max_depth=25, min_samples_leaf=5, n_estimators=200 ..............\n",
      "[CV]  max_depth=25, min_samples_leaf=5, n_estimators=200, score=0.954, total=  19.0s\n",
      "[CV] max_depth=25, min_samples_leaf=5, n_estimators=200 ..............\n",
      "[CV]  max_depth=25, min_samples_leaf=5, n_estimators=200, score=0.958, total=  18.2s\n",
      "[CV] max_depth=25, min_samples_leaf=5, n_estimators=200 ..............\n",
      "[CV]  max_depth=25, min_samples_leaf=5, n_estimators=200, score=0.954, total=  19.0s\n",
      "[CV] max_depth=25, min_samples_leaf=5, n_estimators=200 ..............\n",
      "[CV]  max_depth=25, min_samples_leaf=5, n_estimators=200, score=0.956, total=  22.9s\n",
      "[CV] max_depth=25, min_samples_leaf=7, n_estimators=120 ..............\n",
      "[CV]  max_depth=25, min_samples_leaf=7, n_estimators=120, score=0.804, total=  13.3s\n",
      "[CV] max_depth=25, min_samples_leaf=7, n_estimators=120 ..............\n",
      "[CV]  max_depth=25, min_samples_leaf=7, n_estimators=120, score=0.949, total=  11.1s\n",
      "[CV] max_depth=25, min_samples_leaf=7, n_estimators=120 ..............\n",
      "[CV]  max_depth=25, min_samples_leaf=7, n_estimators=120, score=0.951, total=  10.1s\n",
      "[CV] max_depth=25, min_samples_leaf=7, n_estimators=120 ..............\n",
      "[CV]  max_depth=25, min_samples_leaf=7, n_estimators=120, score=0.948, total=  11.2s\n",
      "[CV] max_depth=25, min_samples_leaf=7, n_estimators=120 ..............\n",
      "[CV]  max_depth=25, min_samples_leaf=7, n_estimators=120, score=0.949, total=  10.1s\n",
      "[CV] max_depth=25, min_samples_leaf=7, n_estimators=150 ..............\n",
      "[CV]  max_depth=25, min_samples_leaf=7, n_estimators=150, score=0.804, total=  12.9s\n",
      "[CV] max_depth=25, min_samples_leaf=7, n_estimators=150 ..............\n",
      "[CV]  max_depth=25, min_samples_leaf=7, n_estimators=150, score=0.948, total=  12.7s\n",
      "[CV] max_depth=25, min_samples_leaf=7, n_estimators=150 ..............\n",
      "[CV]  max_depth=25, min_samples_leaf=7, n_estimators=150, score=0.951, total=  12.7s\n",
      "[CV] max_depth=25, min_samples_leaf=7, n_estimators=150 ..............\n"
     ]
    },
    {
     "name": "stdout",
     "output_type": "stream",
     "text": [
      "[CV]  max_depth=25, min_samples_leaf=7, n_estimators=150, score=0.948, total=  12.9s\n",
      "[CV] max_depth=25, min_samples_leaf=7, n_estimators=150 ..............\n",
      "[CV]  max_depth=25, min_samples_leaf=7, n_estimators=150, score=0.950, total=  12.8s\n",
      "[CV] max_depth=25, min_samples_leaf=7, n_estimators=180 ..............\n",
      "[CV]  max_depth=25, min_samples_leaf=7, n_estimators=180, score=0.801, total=  17.1s\n",
      "[CV] max_depth=25, min_samples_leaf=7, n_estimators=180 ..............\n",
      "[CV]  max_depth=25, min_samples_leaf=7, n_estimators=180, score=0.949, total=  15.4s\n",
      "[CV] max_depth=25, min_samples_leaf=7, n_estimators=180 ..............\n",
      "[CV]  max_depth=25, min_samples_leaf=7, n_estimators=180, score=0.952, total=  15.3s\n",
      "[CV] max_depth=25, min_samples_leaf=7, n_estimators=180 ..............\n",
      "[CV]  max_depth=25, min_samples_leaf=7, n_estimators=180, score=0.950, total=  14.9s\n",
      "[CV] max_depth=25, min_samples_leaf=7, n_estimators=180 ..............\n",
      "[CV]  max_depth=25, min_samples_leaf=7, n_estimators=180, score=0.951, total=  15.0s\n",
      "[CV] max_depth=25, min_samples_leaf=7, n_estimators=200 ..............\n",
      "[CV]  max_depth=25, min_samples_leaf=7, n_estimators=200, score=0.804, total=  17.1s\n",
      "[CV] max_depth=25, min_samples_leaf=7, n_estimators=200 ..............\n",
      "[CV]  max_depth=25, min_samples_leaf=7, n_estimators=200, score=0.948, total=  16.6s\n",
      "[CV] max_depth=25, min_samples_leaf=7, n_estimators=200 ..............\n",
      "[CV]  max_depth=25, min_samples_leaf=7, n_estimators=200, score=0.951, total=  16.7s\n",
      "[CV] max_depth=25, min_samples_leaf=7, n_estimators=200 ..............\n",
      "[CV]  max_depth=25, min_samples_leaf=7, n_estimators=200, score=0.949, total=  17.0s\n",
      "[CV] max_depth=25, min_samples_leaf=7, n_estimators=200 ..............\n",
      "[CV]  max_depth=25, min_samples_leaf=7, n_estimators=200, score=0.950, total=  18.2s\n",
      "[CV] max_depth=30, min_samples_leaf=3, n_estimators=120 ..............\n",
      "[CV]  max_depth=30, min_samples_leaf=3, n_estimators=120, score=0.796, total=  10.8s\n",
      "[CV] max_depth=30, min_samples_leaf=3, n_estimators=120 ..............\n",
      "[CV]  max_depth=30, min_samples_leaf=3, n_estimators=120, score=0.962, total=  10.8s\n",
      "[CV] max_depth=30, min_samples_leaf=3, n_estimators=120 ..............\n",
      "[CV]  max_depth=30, min_samples_leaf=3, n_estimators=120, score=0.965, total=  10.8s\n",
      "[CV] max_depth=30, min_samples_leaf=3, n_estimators=120 ..............\n",
      "[CV]  max_depth=30, min_samples_leaf=3, n_estimators=120, score=0.961, total=  12.8s\n",
      "[CV] max_depth=30, min_samples_leaf=3, n_estimators=120 ..............\n",
      "[CV]  max_depth=30, min_samples_leaf=3, n_estimators=120, score=0.964, total=  11.4s\n",
      "[CV] max_depth=30, min_samples_leaf=3, n_estimators=150 ..............\n",
      "[CV]  max_depth=30, min_samples_leaf=3, n_estimators=150, score=0.798, total=  13.5s\n",
      "[CV] max_depth=30, min_samples_leaf=3, n_estimators=150 ..............\n",
      "[CV]  max_depth=30, min_samples_leaf=3, n_estimators=150, score=0.963, total=  13.4s\n",
      "[CV] max_depth=30, min_samples_leaf=3, n_estimators=150 ..............\n",
      "[CV]  max_depth=30, min_samples_leaf=3, n_estimators=150, score=0.965, total=  13.4s\n",
      "[CV] max_depth=30, min_samples_leaf=3, n_estimators=150 ..............\n",
      "[CV]  max_depth=30, min_samples_leaf=3, n_estimators=150, score=0.962, total=  13.5s\n",
      "[CV] max_depth=30, min_samples_leaf=3, n_estimators=150 ..............\n",
      "[CV]  max_depth=30, min_samples_leaf=3, n_estimators=150, score=0.963, total=  13.7s\n",
      "[CV] max_depth=30, min_samples_leaf=3, n_estimators=180 ..............\n",
      "[CV]  max_depth=30, min_samples_leaf=3, n_estimators=180, score=0.797, total=  15.9s\n",
      "[CV] max_depth=30, min_samples_leaf=3, n_estimators=180 ..............\n",
      "[CV]  max_depth=30, min_samples_leaf=3, n_estimators=180, score=0.962, total=  16.5s\n",
      "[CV] max_depth=30, min_samples_leaf=3, n_estimators=180 ..............\n",
      "[CV]  max_depth=30, min_samples_leaf=3, n_estimators=180, score=0.965, total=  16.2s\n",
      "[CV] max_depth=30, min_samples_leaf=3, n_estimators=180 ..............\n",
      "[CV]  max_depth=30, min_samples_leaf=3, n_estimators=180, score=0.962, total=  16.2s\n",
      "[CV] max_depth=30, min_samples_leaf=3, n_estimators=180 ..............\n",
      "[CV]  max_depth=30, min_samples_leaf=3, n_estimators=180, score=0.964, total=  16.1s\n",
      "[CV] max_depth=30, min_samples_leaf=3, n_estimators=200 ..............\n",
      "[CV]  max_depth=30, min_samples_leaf=3, n_estimators=200, score=0.798, total=  17.8s\n",
      "[CV] max_depth=30, min_samples_leaf=3, n_estimators=200 ..............\n",
      "[CV]  max_depth=30, min_samples_leaf=3, n_estimators=200, score=0.963, total=  18.2s\n",
      "[CV] max_depth=30, min_samples_leaf=3, n_estimators=200 ..............\n",
      "[CV]  max_depth=30, min_samples_leaf=3, n_estimators=200, score=0.965, total=  17.9s\n",
      "[CV] max_depth=30, min_samples_leaf=3, n_estimators=200 ..............\n",
      "[CV]  max_depth=30, min_samples_leaf=3, n_estimators=200, score=0.962, total=  18.0s\n",
      "[CV] max_depth=30, min_samples_leaf=3, n_estimators=200 ..............\n",
      "[CV]  max_depth=30, min_samples_leaf=3, n_estimators=200, score=0.964, total=  18.0s\n",
      "[CV] max_depth=30, min_samples_leaf=5, n_estimators=120 ..............\n",
      "[CV]  max_depth=30, min_samples_leaf=5, n_estimators=120, score=0.801, total=  10.3s\n",
      "[CV] max_depth=30, min_samples_leaf=5, n_estimators=120 ..............\n",
      "[CV]  max_depth=30, min_samples_leaf=5, n_estimators=120, score=0.955, total=  13.5s\n",
      "[CV] max_depth=30, min_samples_leaf=5, n_estimators=120 ..............\n",
      "[CV]  max_depth=30, min_samples_leaf=5, n_estimators=120, score=0.959, total=  11.7s\n",
      "[CV] max_depth=30, min_samples_leaf=5, n_estimators=120 ..............\n",
      "[CV]  max_depth=30, min_samples_leaf=5, n_estimators=120, score=0.956, total=  10.3s\n",
      "[CV] max_depth=30, min_samples_leaf=5, n_estimators=120 ..............\n",
      "[CV]  max_depth=30, min_samples_leaf=5, n_estimators=120, score=0.955, total=  10.9s\n",
      "[CV] max_depth=30, min_samples_leaf=5, n_estimators=150 ..............\n",
      "[CV]  max_depth=30, min_samples_leaf=5, n_estimators=150, score=0.801, total=  13.5s\n",
      "[CV] max_depth=30, min_samples_leaf=5, n_estimators=150 ..............\n",
      "[CV]  max_depth=30, min_samples_leaf=5, n_estimators=150, score=0.954, total=  13.2s\n",
      "[CV] max_depth=30, min_samples_leaf=5, n_estimators=150 ..............\n",
      "[CV]  max_depth=30, min_samples_leaf=5, n_estimators=150, score=0.957, total=  13.0s\n",
      "[CV] max_depth=30, min_samples_leaf=5, n_estimators=150 ..............\n",
      "[CV]  max_depth=30, min_samples_leaf=5, n_estimators=150, score=0.954, total=  13.2s\n",
      "[CV] max_depth=30, min_samples_leaf=5, n_estimators=150 ..............\n",
      "[CV]  max_depth=30, min_samples_leaf=5, n_estimators=150, score=0.957, total=  13.2s\n",
      "[CV] max_depth=30, min_samples_leaf=5, n_estimators=180 ..............\n",
      "[CV]  max_depth=30, min_samples_leaf=5, n_estimators=180, score=0.801, total=  16.0s\n",
      "[CV] max_depth=30, min_samples_leaf=5, n_estimators=180 ..............\n",
      "[CV]  max_depth=30, min_samples_leaf=5, n_estimators=180, score=0.955, total=  15.9s\n",
      "[CV] max_depth=30, min_samples_leaf=5, n_estimators=180 ..............\n",
      "[CV]  max_depth=30, min_samples_leaf=5, n_estimators=180, score=0.957, total=  15.8s\n",
      "[CV] max_depth=30, min_samples_leaf=5, n_estimators=180 ..............\n",
      "[CV]  max_depth=30, min_samples_leaf=5, n_estimators=180, score=0.954, total=  16.0s\n",
      "[CV] max_depth=30, min_samples_leaf=5, n_estimators=180 ..............\n",
      "[CV]  max_depth=30, min_samples_leaf=5, n_estimators=180, score=0.956, total=  15.8s\n",
      "[CV] max_depth=30, min_samples_leaf=5, n_estimators=200 ..............\n",
      "[CV]  max_depth=30, min_samples_leaf=5, n_estimators=200, score=0.802, total=  17.5s\n",
      "[CV] max_depth=30, min_samples_leaf=5, n_estimators=200 ..............\n",
      "[CV]  max_depth=30, min_samples_leaf=5, n_estimators=200, score=0.955, total=  17.7s\n",
      "[CV] max_depth=30, min_samples_leaf=5, n_estimators=200 ..............\n",
      "[CV]  max_depth=30, min_samples_leaf=5, n_estimators=200, score=0.959, total=  17.3s\n",
      "[CV] max_depth=30, min_samples_leaf=5, n_estimators=200 ..............\n",
      "[CV]  max_depth=30, min_samples_leaf=5, n_estimators=200, score=0.955, total=  17.7s\n",
      "[CV] max_depth=30, min_samples_leaf=5, n_estimators=200 ..............\n",
      "[CV]  max_depth=30, min_samples_leaf=5, n_estimators=200, score=0.957, total=  17.7s\n",
      "[CV] max_depth=30, min_samples_leaf=7, n_estimators=120 ..............\n",
      "[CV]  max_depth=30, min_samples_leaf=7, n_estimators=120, score=0.801, total=  10.6s\n",
      "[CV] max_depth=30, min_samples_leaf=7, n_estimators=120 ..............\n"
     ]
    },
    {
     "name": "stdout",
     "output_type": "stream",
     "text": [
      "[CV]  max_depth=30, min_samples_leaf=7, n_estimators=120, score=0.947, total=  10.3s\n",
      "[CV] max_depth=30, min_samples_leaf=7, n_estimators=120 ..............\n",
      "[CV]  max_depth=30, min_samples_leaf=7, n_estimators=120, score=0.952, total=  10.4s\n",
      "[CV] max_depth=30, min_samples_leaf=7, n_estimators=120 ..............\n",
      "[CV]  max_depth=30, min_samples_leaf=7, n_estimators=120, score=0.948, total=  10.2s\n",
      "[CV] max_depth=30, min_samples_leaf=7, n_estimators=120 ..............\n",
      "[CV]  max_depth=30, min_samples_leaf=7, n_estimators=120, score=0.951, total=  10.3s\n",
      "[CV] max_depth=30, min_samples_leaf=7, n_estimators=150 ..............\n",
      "[CV]  max_depth=30, min_samples_leaf=7, n_estimators=150, score=0.802, total=  12.8s\n",
      "[CV] max_depth=30, min_samples_leaf=7, n_estimators=150 ..............\n",
      "[CV]  max_depth=30, min_samples_leaf=7, n_estimators=150, score=0.948, total=  12.8s\n",
      "[CV] max_depth=30, min_samples_leaf=7, n_estimators=150 ..............\n",
      "[CV]  max_depth=30, min_samples_leaf=7, n_estimators=150, score=0.951, total=  12.8s\n",
      "[CV] max_depth=30, min_samples_leaf=7, n_estimators=150 ..............\n",
      "[CV]  max_depth=30, min_samples_leaf=7, n_estimators=150, score=0.949, total=  13.0s\n",
      "[CV] max_depth=30, min_samples_leaf=7, n_estimators=150 ..............\n",
      "[CV]  max_depth=30, min_samples_leaf=7, n_estimators=150, score=0.951, total=  12.8s\n",
      "[CV] max_depth=30, min_samples_leaf=7, n_estimators=180 ..............\n",
      "[CV]  max_depth=30, min_samples_leaf=7, n_estimators=180, score=0.801, total=  15.9s\n",
      "[CV] max_depth=30, min_samples_leaf=7, n_estimators=180 ..............\n",
      "[CV]  max_depth=30, min_samples_leaf=7, n_estimators=180, score=0.948, total=  15.4s\n",
      "[CV] max_depth=30, min_samples_leaf=7, n_estimators=180 ..............\n",
      "[CV]  max_depth=30, min_samples_leaf=7, n_estimators=180, score=0.952, total=  15.3s\n",
      "[CV] max_depth=30, min_samples_leaf=7, n_estimators=180 ..............\n",
      "[CV]  max_depth=30, min_samples_leaf=7, n_estimators=180, score=0.949, total=  15.4s\n",
      "[CV] max_depth=30, min_samples_leaf=7, n_estimators=180 ..............\n",
      "[CV]  max_depth=30, min_samples_leaf=7, n_estimators=180, score=0.949, total=  15.4s\n",
      "[CV] max_depth=30, min_samples_leaf=7, n_estimators=200 ..............\n",
      "[CV]  max_depth=30, min_samples_leaf=7, n_estimators=200, score=0.803, total=  17.2s\n",
      "[CV] max_depth=30, min_samples_leaf=7, n_estimators=200 ..............\n",
      "[CV]  max_depth=30, min_samples_leaf=7, n_estimators=200, score=0.949, total=  18.5s\n",
      "[CV] max_depth=30, min_samples_leaf=7, n_estimators=200 ..............\n",
      "[CV]  max_depth=30, min_samples_leaf=7, n_estimators=200, score=0.951, total=  18.9s\n",
      "[CV] max_depth=30, min_samples_leaf=7, n_estimators=200 ..............\n",
      "[CV]  max_depth=30, min_samples_leaf=7, n_estimators=200, score=0.950, total=  17.5s\n",
      "[CV] max_depth=30, min_samples_leaf=7, n_estimators=200 ..............\n",
      "[CV]  max_depth=30, min_samples_leaf=7, n_estimators=200, score=0.951, total=  17.0s\n",
      "[CV] max_depth=35, min_samples_leaf=3, n_estimators=120 ..............\n",
      "[CV]  max_depth=35, min_samples_leaf=3, n_estimators=120, score=0.798, total=  11.5s\n",
      "[CV] max_depth=35, min_samples_leaf=3, n_estimators=120 ..............\n",
      "[CV]  max_depth=35, min_samples_leaf=3, n_estimators=120, score=0.962, total=  10.9s\n",
      "[CV] max_depth=35, min_samples_leaf=3, n_estimators=120 ..............\n",
      "[CV]  max_depth=35, min_samples_leaf=3, n_estimators=120, score=0.966, total=  11.0s\n",
      "[CV] max_depth=35, min_samples_leaf=3, n_estimators=120 ..............\n",
      "[CV]  max_depth=35, min_samples_leaf=3, n_estimators=120, score=0.963, total=  11.2s\n",
      "[CV] max_depth=35, min_samples_leaf=3, n_estimators=120 ..............\n",
      "[CV]  max_depth=35, min_samples_leaf=3, n_estimators=120, score=0.964, total=  11.1s\n",
      "[CV] max_depth=35, min_samples_leaf=3, n_estimators=150 ..............\n",
      "[CV]  max_depth=35, min_samples_leaf=3, n_estimators=150, score=0.799, total=  13.6s\n",
      "[CV] max_depth=35, min_samples_leaf=3, n_estimators=150 ..............\n",
      "[CV]  max_depth=35, min_samples_leaf=3, n_estimators=150, score=0.962, total=  13.7s\n",
      "[CV] max_depth=35, min_samples_leaf=3, n_estimators=150 ..............\n",
      "[CV]  max_depth=35, min_samples_leaf=3, n_estimators=150, score=0.965, total=  13.9s\n",
      "[CV] max_depth=35, min_samples_leaf=3, n_estimators=150 ..............\n",
      "[CV]  max_depth=35, min_samples_leaf=3, n_estimators=150, score=0.962, total=  13.7s\n",
      "[CV] max_depth=35, min_samples_leaf=3, n_estimators=150 ..............\n",
      "[CV]  max_depth=35, min_samples_leaf=3, n_estimators=150, score=0.965, total=  13.7s\n",
      "[CV] max_depth=35, min_samples_leaf=3, n_estimators=180 ..............\n",
      "[CV]  max_depth=35, min_samples_leaf=3, n_estimators=180, score=0.798, total=  16.3s\n",
      "[CV] max_depth=35, min_samples_leaf=3, n_estimators=180 ..............\n",
      "[CV]  max_depth=35, min_samples_leaf=3, n_estimators=180, score=0.962, total=  16.5s\n",
      "[CV] max_depth=35, min_samples_leaf=3, n_estimators=180 ..............\n",
      "[CV]  max_depth=35, min_samples_leaf=3, n_estimators=180, score=0.965, total=  16.3s\n",
      "[CV] max_depth=35, min_samples_leaf=3, n_estimators=180 ..............\n",
      "[CV]  max_depth=35, min_samples_leaf=3, n_estimators=180, score=0.962, total=  16.4s\n",
      "[CV] max_depth=35, min_samples_leaf=3, n_estimators=180 ..............\n",
      "[CV]  max_depth=35, min_samples_leaf=3, n_estimators=180, score=0.964, total=  16.6s\n",
      "[CV] max_depth=35, min_samples_leaf=3, n_estimators=200 ..............\n",
      "[CV]  max_depth=35, min_samples_leaf=3, n_estimators=200, score=0.798, total=  18.6s\n",
      "[CV] max_depth=35, min_samples_leaf=3, n_estimators=200 ..............\n",
      "[CV]  max_depth=35, min_samples_leaf=3, n_estimators=200, score=0.962, total=  18.4s\n",
      "[CV] max_depth=35, min_samples_leaf=3, n_estimators=200 ..............\n",
      "[CV]  max_depth=35, min_samples_leaf=3, n_estimators=200, score=0.964, total=  18.7s\n",
      "[CV] max_depth=35, min_samples_leaf=3, n_estimators=200 ..............\n",
      "[CV]  max_depth=35, min_samples_leaf=3, n_estimators=200, score=0.962, total=  18.4s\n",
      "[CV] max_depth=35, min_samples_leaf=3, n_estimators=200 ..............\n",
      "[CV]  max_depth=35, min_samples_leaf=3, n_estimators=200, score=0.964, total=  18.2s\n",
      "[CV] max_depth=35, min_samples_leaf=5, n_estimators=120 ..............\n",
      "[CV]  max_depth=35, min_samples_leaf=5, n_estimators=120, score=0.803, total=  10.6s\n",
      "[CV] max_depth=35, min_samples_leaf=5, n_estimators=120 ..............\n",
      "[CV]  max_depth=35, min_samples_leaf=5, n_estimators=120, score=0.955, total=  10.7s\n",
      "[CV] max_depth=35, min_samples_leaf=5, n_estimators=120 ..............\n",
      "[CV]  max_depth=35, min_samples_leaf=5, n_estimators=120, score=0.958, total=  10.7s\n",
      "[CV] max_depth=35, min_samples_leaf=5, n_estimators=120 ..............\n",
      "[CV]  max_depth=35, min_samples_leaf=5, n_estimators=120, score=0.954, total=  10.5s\n",
      "[CV] max_depth=35, min_samples_leaf=5, n_estimators=120 ..............\n",
      "[CV]  max_depth=35, min_samples_leaf=5, n_estimators=120, score=0.955, total=  10.7s\n",
      "[CV] max_depth=35, min_samples_leaf=5, n_estimators=150 ..............\n",
      "[CV]  max_depth=35, min_samples_leaf=5, n_estimators=150, score=0.801, total=  13.4s\n",
      "[CV] max_depth=35, min_samples_leaf=5, n_estimators=150 ..............\n",
      "[CV]  max_depth=35, min_samples_leaf=5, n_estimators=150, score=0.954, total=  13.1s\n",
      "[CV] max_depth=35, min_samples_leaf=5, n_estimators=150 ..............\n",
      "[CV]  max_depth=35, min_samples_leaf=5, n_estimators=150, score=0.958, total=  13.1s\n",
      "[CV] max_depth=35, min_samples_leaf=5, n_estimators=150 ..............\n",
      "[CV]  max_depth=35, min_samples_leaf=5, n_estimators=150, score=0.954, total=  13.2s\n",
      "[CV] max_depth=35, min_samples_leaf=5, n_estimators=150 ..............\n",
      "[CV]  max_depth=35, min_samples_leaf=5, n_estimators=150, score=0.958, total=  13.2s\n",
      "[CV] max_depth=35, min_samples_leaf=5, n_estimators=180 ..............\n",
      "[CV]  max_depth=35, min_samples_leaf=5, n_estimators=180, score=0.803, total=  15.9s\n",
      "[CV] max_depth=35, min_samples_leaf=5, n_estimators=180 ..............\n",
      "[CV]  max_depth=35, min_samples_leaf=5, n_estimators=180, score=0.956, total=  15.9s\n",
      "[CV] max_depth=35, min_samples_leaf=5, n_estimators=180 ..............\n",
      "[CV]  max_depth=35, min_samples_leaf=5, n_estimators=180, score=0.957, total=  16.2s\n",
      "[CV] max_depth=35, min_samples_leaf=5, n_estimators=180 ..............\n",
      "[CV]  max_depth=35, min_samples_leaf=5, n_estimators=180, score=0.954, total=  15.8s\n",
      "[CV] max_depth=35, min_samples_leaf=5, n_estimators=180 ..............\n"
     ]
    },
    {
     "name": "stdout",
     "output_type": "stream",
     "text": [
      "[CV]  max_depth=35, min_samples_leaf=5, n_estimators=180, score=0.957, total=  15.9s\n",
      "[CV] max_depth=35, min_samples_leaf=5, n_estimators=200 ..............\n",
      "[CV]  max_depth=35, min_samples_leaf=5, n_estimators=200, score=0.802, total=  17.7s\n",
      "[CV] max_depth=35, min_samples_leaf=5, n_estimators=200 ..............\n",
      "[CV]  max_depth=35, min_samples_leaf=5, n_estimators=200, score=0.956, total=  17.6s\n",
      "[CV] max_depth=35, min_samples_leaf=5, n_estimators=200 ..............\n",
      "[CV]  max_depth=35, min_samples_leaf=5, n_estimators=200, score=0.958, total=  21.9s\n",
      "[CV] max_depth=35, min_samples_leaf=5, n_estimators=200 ..............\n",
      "[CV]  max_depth=35, min_samples_leaf=5, n_estimators=200, score=0.954, total=  17.8s\n",
      "[CV] max_depth=35, min_samples_leaf=5, n_estimators=200 ..............\n",
      "[CV]  max_depth=35, min_samples_leaf=5, n_estimators=200, score=0.957, total=  17.6s\n",
      "[CV] max_depth=35, min_samples_leaf=7, n_estimators=120 ..............\n",
      "[CV]  max_depth=35, min_samples_leaf=7, n_estimators=120, score=0.805, total=  10.4s\n",
      "[CV] max_depth=35, min_samples_leaf=7, n_estimators=120 ..............\n",
      "[CV]  max_depth=35, min_samples_leaf=7, n_estimators=120, score=0.948, total=  10.2s\n",
      "[CV] max_depth=35, min_samples_leaf=7, n_estimators=120 ..............\n",
      "[CV]  max_depth=35, min_samples_leaf=7, n_estimators=120, score=0.952, total=  10.4s\n",
      "[CV] max_depth=35, min_samples_leaf=7, n_estimators=120 ..............\n",
      "[CV]  max_depth=35, min_samples_leaf=7, n_estimators=120, score=0.949, total=  10.3s\n",
      "[CV] max_depth=35, min_samples_leaf=7, n_estimators=120 ..............\n",
      "[CV]  max_depth=35, min_samples_leaf=7, n_estimators=120, score=0.951, total=  10.4s\n",
      "[CV] max_depth=35, min_samples_leaf=7, n_estimators=150 ..............\n",
      "[CV]  max_depth=35, min_samples_leaf=7, n_estimators=150, score=0.804, total=  12.9s\n",
      "[CV] max_depth=35, min_samples_leaf=7, n_estimators=150 ..............\n",
      "[CV]  max_depth=35, min_samples_leaf=7, n_estimators=150, score=0.950, total=  12.8s\n",
      "[CV] max_depth=35, min_samples_leaf=7, n_estimators=150 ..............\n",
      "[CV]  max_depth=35, min_samples_leaf=7, n_estimators=150, score=0.951, total=  12.7s\n",
      "[CV] max_depth=35, min_samples_leaf=7, n_estimators=150 ..............\n",
      "[CV]  max_depth=35, min_samples_leaf=7, n_estimators=150, score=0.950, total=  13.0s\n",
      "[CV] max_depth=35, min_samples_leaf=7, n_estimators=150 ..............\n",
      "[CV]  max_depth=35, min_samples_leaf=7, n_estimators=150, score=0.949, total=  12.7s\n",
      "[CV] max_depth=35, min_samples_leaf=7, n_estimators=180 ..............\n",
      "[CV]  max_depth=35, min_samples_leaf=7, n_estimators=180, score=0.802, total=  15.3s\n",
      "[CV] max_depth=35, min_samples_leaf=7, n_estimators=180 ..............\n",
      "[CV]  max_depth=35, min_samples_leaf=7, n_estimators=180, score=0.948, total=  15.3s\n",
      "[CV] max_depth=35, min_samples_leaf=7, n_estimators=180 ..............\n",
      "[CV]  max_depth=35, min_samples_leaf=7, n_estimators=180, score=0.952, total=  15.4s\n",
      "[CV] max_depth=35, min_samples_leaf=7, n_estimators=180 ..............\n",
      "[CV]  max_depth=35, min_samples_leaf=7, n_estimators=180, score=0.949, total=  15.4s\n",
      "[CV] max_depth=35, min_samples_leaf=7, n_estimators=180 ..............\n",
      "[CV]  max_depth=35, min_samples_leaf=7, n_estimators=180, score=0.949, total=  15.2s\n",
      "[CV] max_depth=35, min_samples_leaf=7, n_estimators=200 ..............\n",
      "[CV]  max_depth=35, min_samples_leaf=7, n_estimators=200, score=0.804, total=  17.4s\n",
      "[CV] max_depth=35, min_samples_leaf=7, n_estimators=200 ..............\n",
      "[CV]  max_depth=35, min_samples_leaf=7, n_estimators=200, score=0.949, total=  17.2s\n",
      "[CV] max_depth=35, min_samples_leaf=7, n_estimators=200 ..............\n",
      "[CV]  max_depth=35, min_samples_leaf=7, n_estimators=200, score=0.951, total=  17.0s\n",
      "[CV] max_depth=35, min_samples_leaf=7, n_estimators=200 ..............\n",
      "[CV]  max_depth=35, min_samples_leaf=7, n_estimators=200, score=0.950, total=  17.0s\n",
      "[CV] max_depth=35, min_samples_leaf=7, n_estimators=200 ..............\n",
      "[CV]  max_depth=35, min_samples_leaf=7, n_estimators=200, score=0.950, total=  17.2s\n"
     ]
    },
    {
     "name": "stderr",
     "output_type": "stream",
     "text": [
      "[Parallel(n_jobs=1)]: Done 240 out of 240 | elapsed: 69.5min finished\n"
     ]
    },
    {
     "data": {
      "text/plain": [
       "GridSearchCV(estimator=RandomForestClassifier(max_depth=25, min_samples_leaf=3,\n",
       "                                              n_estimators=120),\n",
       "             param_grid={'max_depth': [20, 25, 30, 35],\n",
       "                         'min_samples_leaf': [3, 5, 7],\n",
       "                         'n_estimators': [120, 150, 180, 200]},\n",
       "             verbose=3)"
      ]
     },
     "execution_count": 99,
     "metadata": {},
     "output_type": "execute_result"
    }
   ],
   "source": [
    "param = {'n_estimators':[120,150,180,200],'max_depth':[20,25,30,35],'min_samples_leaf':[3,5,7]}\n",
    "gs = GridSearchCV(rfc,param,verbose=3)\n",
    "gs.fit(X_train_smt,y_train_smt"
   ]
  },
  {
   "cell_type": "code",
   "execution_count": 100,
   "metadata": {},
   "outputs": [
    {
     "data": {
      "text/plain": [
       "RandomForestClassifier(max_depth=35, min_samples_leaf=3, n_estimators=120)"
      ]
     },
     "execution_count": 100,
     "metadata": {},
     "output_type": "execute_result"
    }
   ],
   "source": [
    "gs.best_estimator_"
   ]
  },
  {
   "cell_type": "code",
   "execution_count": 104,
   "metadata": {},
   "outputs": [],
   "source": [
    "adbst = AdaBoostClassifier(n_estimators=120,random_state=101)\n",
    "adbst.fit(X_train_smt, y_train_smt)\n",
    "adbst_predict = adbst.predict(X_test)"
   ]
  },
  {
   "cell_type": "code",
   "execution_count": 105,
   "metadata": {},
   "outputs": [
    {
     "name": "stdout",
     "output_type": "stream",
     "text": [
      "Accuracy Score 0.8917212915756252\n",
      "[[6991  345]\n",
      " [ 547  355]]\n",
      "              precision    recall  f1-score   support\n",
      "\n",
      "          no       0.93      0.95      0.94      7336\n",
      "         yes       0.51      0.39      0.44       902\n",
      "\n",
      "    accuracy                           0.89      8238\n",
      "   macro avg       0.72      0.67      0.69      8238\n",
      "weighted avg       0.88      0.89      0.89      8238\n",
      "\n"
     ]
    }
   ],
   "source": [
    "print('Accuracy Score',accuracy_score(y_test,adbst_predict))\n",
    "print(confusion_matrix(y_test,adbst_predict))\n",
    "print(classification_report(y_test,adbst_predict))"
   ]
  },
  {
   "cell_type": "code",
   "execution_count": 106,
   "metadata": {},
   "outputs": [
    {
     "data": {
      "text/plain": [
       "array([0.90005665, 0.89981387, 0.90280812, 0.89932832, 0.89366351])"
      ]
     },
     "execution_count": 106,
     "metadata": {},
     "output_type": "execute_result"
    }
   ],
   "source": [
    "cv = ShuffleSplit(n_splits=5, test_size=0.3, random_state=0)\n",
    "cross_val_score(adbst, bank_std, Y, cv=cv)"
   ]
  },
  {
   "cell_type": "code",
   "execution_count": 109,
   "metadata": {},
   "outputs": [],
   "source": [
    "gbc = GradientBoostingClassifier(n_estimators=120,max_depth=35,min_samples_leaf=3,random_state=101)\n",
    "gbc.fit(X_train_smt,y_train_smt)\n",
    "gbc_predict = gbc.predict(X_test)"
   ]
  },
  {
   "cell_type": "code",
   "execution_count": 110,
   "metadata": {},
   "outputs": [
    {
     "name": "stdout",
     "output_type": "stream",
     "text": [
      "Accuracy Score 0.8832240835154164\n",
      "[[6992  344]\n",
      " [ 618  284]]\n",
      "              precision    recall  f1-score   support\n",
      "\n",
      "          no       0.92      0.95      0.94      7336\n",
      "         yes       0.45      0.31      0.37       902\n",
      "\n",
      "    accuracy                           0.88      8238\n",
      "   macro avg       0.69      0.63      0.65      8238\n",
      "weighted avg       0.87      0.88      0.87      8238\n",
      "\n"
     ]
    }
   ],
   "source": [
    "print('Accuracy Score',accuracy_score(y_test,gbc_predict))\n",
    "print(confusion_matrix(y_test,gbc_predict))\n",
    "print(classification_report(y_test,gbc_predict))"
   ]
  },
  {
   "cell_type": "code",
   "execution_count": 111,
   "metadata": {},
   "outputs": [
    {
     "data": {
      "text/plain": [
       "array([0.88565186, 0.88508538, 0.89034555, 0.88387149, 0.88192927])"
      ]
     },
     "execution_count": 111,
     "metadata": {},
     "output_type": "execute_result"
    }
   ],
   "source": [
    "cv = ShuffleSplit(n_splits=5, test_size=0.3, random_state=0)\n",
    "cross_val_score(gbc, bank_std, Y, cv=cv)"
   ]
  },
  {
   "cell_type": "code",
   "execution_count": 112,
   "metadata": {},
   "outputs": [],
   "source": [
    "xgbf = xgb.XGBClassifier(n_estimators=120,max_depth=35,random_state=101)\n",
    "xgbf.fit(X_train_smt, y_train_smt)\n",
    "xgb_predict = xgbf.predict(X_test)"
   ]
  },
  {
   "cell_type": "code",
   "execution_count": 113,
   "metadata": {},
   "outputs": [
    {
     "name": "stdout",
     "output_type": "stream",
     "text": [
      "Accuracy Score 0.8832240835154164\n",
      "[[6992  344]\n",
      " [ 618  284]]\n",
      "              precision    recall  f1-score   support\n",
      "\n",
      "          no       0.92      0.95      0.94      7336\n",
      "         yes       0.45      0.31      0.37       902\n",
      "\n",
      "    accuracy                           0.88      8238\n",
      "   macro avg       0.69      0.63      0.65      8238\n",
      "weighted avg       0.87      0.88      0.87      8238\n",
      "\n"
     ]
    }
   ],
   "source": [
    "print('Accuracy Score',accuracy_score(y_test,gbc_predict))\n",
    "print(confusion_matrix(y_test,gbc_predict))\n",
    "print(classification_report(y_test,gbc_predict))"
   ]
  },
  {
   "cell_type": "code",
   "execution_count": 114,
   "metadata": {},
   "outputs": [
    {
     "data": {
      "text/plain": [
       "array([0.88589463, 0.88330501, 0.89083111, 0.88249575, 0.87901594])"
      ]
     },
     "execution_count": 114,
     "metadata": {},
     "output_type": "execute_result"
    }
   ],
   "source": [
    "cv = ShuffleSplit(n_splits=5, test_size=0.3, random_state=0)\n",
    "cross_val_score(xgbf, bank_std, Y, cv=cv)"
   ]
  },
  {
   "cell_type": "code",
   "execution_count": 115,
   "metadata": {},
   "outputs": [],
   "source": [
    "lgb = LGBMClassifier(n_estimators=120,max_depth=35,random_state=101)\n",
    "lgb.fit(X_train_smt, y_train_smt)\n",
    "lgb_predict = lgb.predict(X_test)"
   ]
  },
  {
   "cell_type": "code",
   "execution_count": 116,
   "metadata": {},
   "outputs": [
    {
     "name": "stdout",
     "output_type": "stream",
     "text": [
      "Accuracy Score 0.9016751638747269\n",
      "[[7147  189]\n",
      " [ 621  281]]\n",
      "              precision    recall  f1-score   support\n",
      "\n",
      "          no       0.92      0.97      0.95      7336\n",
      "         yes       0.60      0.31      0.41       902\n",
      "\n",
      "    accuracy                           0.90      8238\n",
      "   macro avg       0.76      0.64      0.68      8238\n",
      "weighted avg       0.88      0.90      0.89      8238\n",
      "\n"
     ]
    }
   ],
   "source": [
    "print('Accuracy Score',accuracy_score(y_test,lgb_predict))\n",
    "print(confusion_matrix(y_test,lgb_predict))\n",
    "print(classification_report(y_test,lgb_predict))"
   ]
  },
  {
   "cell_type": "code",
   "execution_count": 117,
   "metadata": {},
   "outputs": [
    {
     "data": {
      "text/plain": [
       "array([0.88565186, 0.88508538, 0.89034555, 0.88387149, 0.88192927])"
      ]
     },
     "execution_count": 117,
     "metadata": {},
     "output_type": "execute_result"
    }
   ],
   "source": [
    "cv = ShuffleSplit(n_splits=5, test_size=0.3, random_state=0)\n",
    "cross_val_score(gbc, bank_std, Y, cv=cv)"
   ]
  },
  {
   "cell_type": "code",
   "execution_count": null,
   "metadata": {},
   "outputs": [],
   "source": []
  }
 ],
 "metadata": {
  "kernelspec": {
   "display_name": "Python 3",
   "language": "python",
   "name": "python3"
  },
  "language_info": {
   "codemirror_mode": {
    "name": "ipython",
    "version": 3
   },
   "file_extension": ".py",
   "mimetype": "text/x-python",
   "name": "python",
   "nbconvert_exporter": "python",
   "pygments_lexer": "ipython3",
   "version": "3.8.4"
  }
 },
 "nbformat": 4,
 "nbformat_minor": 4
}
